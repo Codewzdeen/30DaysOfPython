{
 "cells": [
  {
   "cell_type": "markdown",
   "metadata": {},
   "source": [
    "# Exercises Day 9"
   ]
  },
  {
   "cell_type": "markdown",
   "metadata": {},
   "source": [
    "#### Exercises: Level 1\n"
   ]
  },
  {
   "cell_type": "markdown",
   "metadata": {},
   "source": [
    "#### Exercise 1"
   ]
  },
  {
   "cell_type": "markdown",
   "metadata": {},
   "source": [
    "\"\"\" Get user input using input(“Enter your age: ”). If user is 18 or older, give feedback: You are old enough to drive. If below 18 give feedback to wait for the missing amount of years. Output: \"\"\""
   ]
  },
  {
   "cell_type": "code",
   "execution_count": 2,
   "metadata": {},
   "outputs": [
    {
     "name": "stdout",
     "output_type": "stream",
     "text": [
      "You are old enough to drive.\n"
     ]
    }
   ],
   "source": [
    "age = int(input('Enter your age: '))\n",
    "if age >= 18:\n",
    "    print('You are old enough to drive.')\n",
    "else:\n",
    "    age = 18 - age\n",
    "    print('You have to wait for', age, 'more years before you drive.')"
   ]
  },
  {
   "cell_type": "markdown",
   "metadata": {},
   "source": [
    "#### Exercise 2"
   ]
  },
  {
   "cell_type": "markdown",
   "metadata": {},
   "source": [
    "\"\"\" Compare the values of my_age and your_age using if … else. Who is older (me or you)? Use input(“Enter your age: ”) to get the age as input. You can use a nested condition to print 'year' for 1 year difference in age, 'years' for bigger differences, and a custom text if my_age = your_age. Output: \"\"\""
   ]
  },
  {
   "cell_type": "code",
   "execution_count": 4,
   "metadata": {},
   "outputs": [
    {
     "name": "stdout",
     "output_type": "stream",
     "text": [
      "You are 2 years older than me\n"
     ]
    }
   ],
   "source": [
    "my_age = 28\n",
    "your_age = int(input('Enter your age:'))\n",
    "\n",
    "\n",
    "if my_age > your_age:\n",
    "    if my_age - 1 == your_age:\n",
    "        print(\"I am one year older than you\")\n",
    "    else:\n",
    "        print(f'I am {my_age - your_age} years older than you')\n",
    "elif my_age < your_age:\n",
    "    if my_age + 1 == your_age:\n",
    "        print('You are one year older than me')\n",
    "    else:\n",
    "        print(f'You are {your_age - my_age} years older than me')\n",
    "else:\n",
    "    print('We are the same age')"
   ]
  },
  {
   "cell_type": "markdown",
   "metadata": {},
   "source": [
    "#### Exercise 3"
   ]
  },
  {
   "cell_type": "markdown",
   "metadata": {},
   "source": [
    "\"\"\" Get two numbers from the user using input prompt. If a is greater than b return a is greater than b, if a is less b return a is smaller than b, else a is equal to b. Output: \"\"\""
   ]
  },
  {
   "cell_type": "code",
   "execution_count": 5,
   "metadata": {},
   "outputs": [
    {
     "name": "stdout",
     "output_type": "stream",
     "text": [
      "a is greater than b\n"
     ]
    }
   ],
   "source": [
    "a = int(input('Enter number one:'))\n",
    "b = int(input('Enter number two:'))\n",
    "if a < b:\n",
    "    print('a is smaller than b')\n",
    "elif a > b:\n",
    "    print('a is greater than b')\n",
    "else:\n",
    "    print('a is equal to b')"
   ]
  },
  {
   "cell_type": "markdown",
   "metadata": {},
   "source": [
    "#### Exercises: Level 2"
   ]
  },
  {
   "cell_type": "markdown",
   "metadata": {},
   "source": [
    "#### Exercise 1\n"
   ]
  },
  {
   "cell_type": "code",
   "execution_count": 6,
   "metadata": {},
   "outputs": [
    {
     "name": "stdout",
     "output_type": "stream",
     "text": [
      "The student's grade is: A\n"
     ]
    }
   ],
   "source": [
    "# Write a code which gives grade to students according to theirs scores:\n",
    "\n",
    "# 80-100, A\n",
    "# 70-79, B\n",
    "# 60-69, C\n",
    "# 50-59, D\n",
    "# 0-49, F \n",
    "\n",
    "score = int(input(\"Enter the student's score:\"))\n",
    "if score >= 80:\n",
    "    grade = 'A'\n",
    "elif score >= 70:\n",
    "    grade = 'B'\n",
    "elif score >= 60:\n",
    "    grade = 'C'\n",
    "elif score >= 50:\n",
    "    grade = 'D'\n",
    "else:\n",
    "    grade = 'F'\n",
    "print(\"The student's grade is:\", grade)"
   ]
  },
  {
   "cell_type": "markdown",
   "metadata": {},
   "source": [
    "#### Exercise 2"
   ]
  },
  {
   "cell_type": "markdown",
   "metadata": {},
   "source": [
    "\"\"\" Check if the season is Autumn, Winter, Spring or Summer. If the user input is: September, October or November, the season is Autumn. December, January or February, the season is Winter. March, April or May, the season is Spring June, July or August, the season is Summer \"\"\""
   ]
  },
  {
   "cell_type": "code",
   "execution_count": 7,
   "metadata": {},
   "outputs": [
    {
     "name": "stdout",
     "output_type": "stream",
     "text": [
      "The season is Winter\n"
     ]
    }
   ],
   "source": [
    "user_input = 'December'\n",
    "if user_input == 'September' or user_input == 'October' or user_input == 'November':\n",
    "    print(\"The season is Autumn\")\n",
    "elif user_input == 'December' or user_input == 'January' or user_input == 'February':\n",
    "    print('The season is Winter')\n",
    "elif user_input == 'March' or user_input == 'April' or user_input == 'May':\n",
    "    print('The season is Spring')\n",
    "else:\n",
    "    print('The season is Summer')\n"
   ]
  },
  {
   "cell_type": "markdown",
   "metadata": {},
   "source": [
    "#### Exercise 3"
   ]
  },
  {
   "cell_type": "code",
   "execution_count": 8,
   "metadata": {},
   "outputs": [
    {
     "name": "stdout",
     "output_type": "stream",
     "text": [
      "['banana', 'orange', 'mango', 'lemon', 'cashew']\n"
     ]
    }
   ],
   "source": [
    "# The following list contains some fruits:\n",
    "\n",
    "# If a fruit doesn't exist in the list add the fruit to the list and print the modified list. \n",
    "# If the fruit exists print('That fruit already exist in the list')\n",
    "\n",
    "fruits = ['banana', 'orange', 'mango', 'lemon']\n",
    "fruit = 'cashew'\n",
    "if fruit not in fruits:\n",
    "    fruits.append(fruit)\n",
    "    print(fruits)\n",
    "else: \n",
    "    print('The fruit already exists in the list')\n"
   ]
  },
  {
   "cell_type": "markdown",
   "metadata": {},
   "source": [
    "#### Exercises: Level 3"
   ]
  },
  {
   "cell_type": "markdown",
   "metadata": {},
   "source": [
    "#### Exercise 1"
   ]
  },
  {
   "cell_type": "code",
   "execution_count": 10,
   "metadata": {},
   "outputs": [],
   "source": [
    "# Here we have a person dictionary. Feel free to modify it!\n",
    "\n",
    "'''person={\n",
    "    'first_name': 'Asabeneh',\n",
    "    'last_name': 'Yetayeh',\n",
    "    'age': 250,\n",
    "    'country': 'Finland',\n",
    "    'is_marred': True,\n",
    "    'skills': ['JavaScript', 'React', 'Node', 'MongoDB', 'Python'],\n",
    "    'address': {\n",
    "        'street': 'Space street',\n",
    "        'zipcode': '02210'\n",
    "    }\n",
    "    }'''\n",
    "\n",
    "\n",
    "person = {'first_name': 'Zaharaddeen', 'last_name': 'Nura', 'age': 30, 'country': 'Nigeria', 'is_marred': False, 'skills': ['JavaScript', 'React', 'Node', 'MongoDB', 'Python'], 'address':{\n",
    "        'street': 'Space street',\n",
    "        'zipcode': '02210'\n",
    "    }}\n"
   ]
  },
  {
   "cell_type": "code",
   "execution_count": 9,
   "metadata": {},
   "outputs": [
    {
     "name": "stdout",
     "output_type": "stream",
     "text": [
      "Node\n"
     ]
    }
   ],
   "source": [
    "# Check if the person dictionary has skills key, if so print out the middle skill in the skills list.\n",
    "person = {'first_name': 'Zaharaddeen', 'last_name': 'Nura', 'age': 30, 'country': 'Nigeria', 'is_marred': False, 'skills': ['JavaScript', 'React', 'Node', 'MongoDB', 'Python'], 'address':{\n",
    "        'street': 'Space street',\n",
    "        'zipcode': '02210'\n",
    "    }}\n",
    " \n",
    "if 'skills' in person:\n",
    "  middle_index = len(person['skills']) // 2\n",
    "  print(person['skills'][middle_index])\n",
    " \n",
    " "
   ]
  },
  {
   "cell_type": "code",
   "execution_count": 11,
   "metadata": {},
   "outputs": [
    {
     "name": "stdout",
     "output_type": "stream",
     "text": [
      "The person has the 'Python' skill.\n"
     ]
    }
   ],
   "source": [
    "# Check if the person dictionary has skills key, if so check if the person has 'Python' skill and print out the result.\n",
    " \n",
    " \n",
    "person = {'first_name': 'Zaharaddeen', 'last_name': 'Nura', 'age': 30, 'country': 'Nigeria', 'is_marred': False, 'skills': ['JavaScript', 'React', 'Node', 'MongoDB', 'Python'], 'address':{\n",
    "        'street': 'Space street',\n",
    "        'zipcode': '02210'\n",
    "    }}\n",
    " \n",
    " \n",
    "\n",
    "if 'skills' in person:\n",
    "  if 'Python' in person['skills']:\n",
    "    print(\"The person has the 'Python' skill.\")\n",
    "  else:\n",
    "    print(\"The person does not have the 'Python' skill.\")\n",
    "else:\n",
    "  print(\"The person does not have a 'skills' key.\")\n",
    " \n",
    " \n"
   ]
  },
  {
   "cell_type": "code",
   "execution_count": 12,
   "metadata": {},
   "outputs": [
    {
     "name": "stdout",
     "output_type": "stream",
     "text": [
      "He is a backend developer\n"
     ]
    }
   ],
   "source": [
    "# If a person skills has only JavaScript and React, print('He is a front end developer'), if the person skills has Node, Python, MongoDB, print('He is a backend developer'), if the person skills has React, Node and MongoDB, Print('He is a fullstack developer'), else print('unknown title') - for more accurate results more conditions can be nested!\n",
    "\n",
    "\n",
    "person = {'first_name': 'Zaharaddeen', 'last_name': 'Nura', 'age': 30, 'country': 'Nigeria', 'is_marred': False, 'skills': ['JavaScript', 'React', 'Node', 'MongoDB', 'Python'], 'address':{\n",
    "        'street': 'Space street',\n",
    "        'zipcode': '02210'\n",
    "    }}\n",
    "\n",
    "\n",
    "if 'skills' in person:\n",
    "    skills = person['skills']\n",
    "    if 'JavaScript' in skills and 'React' in skills and len(skills) == 2:\n",
    "        print(\"He is a front end developer\")\n",
    "    elif 'Node' in skills and 'Python' in skills and 'MongoDB' in skills:\n",
    "        print(\"He is a backend developer\")\n",
    "    elif 'React' in skills and 'Node' in skills and 'MongoDB' in skills:\n",
    "        print(\"He is a fullstack developer\")\n",
    "    else:\n",
    "        print(\"Unknown title\")\n",
    "else:\n",
    "    print(\"The dictionary does not have a skills key\")\n"
   ]
  },
  {
   "cell_type": "code",
   "execution_count": 14,
   "metadata": {},
   "outputs": [
    {
     "name": "stdout",
     "output_type": "stream",
     "text": [
      "Person does not exist in dictionary\n"
     ]
    }
   ],
   "source": [
    "# If the person is married and if he lives in Finland, print the information in the following format:\n",
    "# Asabeneh Yetayeh lives in Finland. He is married.\n",
    "person = {'first_name': 'Zaharaddeen', 'last_name': 'Nura', 'age': 30, 'country': 'Nigeria', 'is_marred': False, 'skills': ['JavaScript', 'React', 'Node', 'MongoDB', 'Python'], 'address':{\n",
    "        'street': 'Space street',\n",
    "        'zipcode': '02210'\n",
    "    }}\n",
    "if person['is_marred'] and person['country'] == 'Finland':\n",
    "  print(f\"{person['first_name']} {person['last_name']} lives in {person['country']}. She is married.\")\n",
    "else:\n",
    "  print('Person does not exist in dictionary')\n"
   ]
  }
 ],
 "metadata": {
  "kernelspec": {
   "display_name": "Python 3",
   "language": "python",
   "name": "python3"
  },
  "language_info": {
   "codemirror_mode": {
    "name": "ipython",
    "version": 3
   },
   "file_extension": ".py",
   "mimetype": "text/x-python",
   "name": "python",
   "nbconvert_exporter": "python",
   "pygments_lexer": "ipython3",
   "version": "3.10.11"
  }
 },
 "nbformat": 4,
 "nbformat_minor": 2
}
