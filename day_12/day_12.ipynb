{
 "cells": [
  {
   "cell_type": "markdown",
   "metadata": {},
   "source": [
    "# Exercises Day 12"
   ]
  },
  {
   "cell_type": "markdown",
   "metadata": {},
   "source": [
    "#### Exercises: Level 1"
   ]
  },
  {
   "cell_type": "markdown",
   "metadata": {},
   "source": [
    "#### Exercise 1"
   ]
  },
  {
   "cell_type": "code",
   "execution_count": 1,
   "metadata": {},
   "outputs": [
    {
     "name": "stdout",
     "output_type": "stream",
     "text": [
      "Random User ID: 255159\n"
     ]
    }
   ],
   "source": [
    "# Writ a function which generates a six digit/character random_user_id\n",
    "\n",
    "import random\n",
    "import string\n",
    "\n",
    "def generate_random_user_id():\n",
    "    characters = string.digits    \n",
    "    random_user_id = ''.join(random.choice(characters) for _ in range(6))\n",
    "    return random_user_id\n",
    "random_id = generate_random_user_id()\n",
    "print(\"Random User ID:\", random_id)\n"
   ]
  },
  {
   "cell_type": "markdown",
   "metadata": {},
   "source": [
    "#### Exercise 2"
   ]
  },
  {
   "cell_type": "code",
   "execution_count": 7,
   "metadata": {},
   "outputs": [
    {
     "name": "stdout",
     "output_type": "stream",
     "text": [
      "Generated User IDs: ['w0CJt', 'huQan', 'va9pv', 'AmHGg', 'waJYV']\n"
     ]
    }
   ],
   "source": [
    "# Modify the previous task. Declare a function named user_id_gen_by_user. It doesn’t take any parameters but it takes two inputs using input(). One of the inputs is the number of characters and the second input is the number of IDs which are supposed to be generated.\n",
    "\n",
    "import random\n",
    "import string\n",
    "\n",
    "def user_id_gen_by_user():\n",
    "    \n",
    "    num_characters = int(input(\"Enter the number of characters for the user ID: \"))\n",
    "    \n",
    "    \n",
    "    num_ids = int(input(\"Enter the number of user IDs to generate: \"))\n",
    "    \n",
    "    \n",
    "    user_ids = []\n",
    "    \n",
    "   \n",
    "    for i in range(num_ids):\n",
    "        user_id = ''.join(random.choices(string.ascii_letters + string.digits, k=num_characters))\n",
    "        user_ids.append(user_id)\n",
    "    return user_ids\n",
    "\n",
    "generated_ids = user_id_gen_by_user()\n",
    "print(\"Generated User IDs:\", generated_ids)"
   ]
  },
  {
   "cell_type": "markdown",
   "metadata": {},
   "source": [
    "#### Exercise 3"
   ]
  },
  {
   "cell_type": "code",
   "execution_count": 9,
   "metadata": {},
   "outputs": [
    {
     "name": "stdout",
     "output_type": "stream",
     "text": [
      "Random rgb Color: (213, 196, 134)\n"
     ]
    }
   ],
   "source": [
    "# Write a function named rgb_color_gen. It will generate rgb colors (3 values ranging from 0 to 255 each)\n",
    "\n",
    "\n",
    "import random\n",
    "\n",
    "def rgb_color_gen():\n",
    "    \n",
    "    red = random.randint(0, 255)\n",
    "    green = random.randint(0, 255)\n",
    "    blue = random.randint(0, 255)\n",
    "    \n",
    "    return red, green, blue\n",
    "\n",
    "rgb_color_gen = rgb_color_gen()\n",
    "print(\"Random rgb Color:\", rgb_color_gen)\n"
   ]
  },
  {
   "cell_type": "markdown",
   "metadata": {},
   "source": [
    "#### Exercises: Level 2"
   ]
  },
  {
   "cell_type": "markdown",
   "metadata": {},
   "source": [
    "#### Exercise 1"
   ]
  },
  {
   "cell_type": "code",
   "execution_count": 10,
   "metadata": {},
   "outputs": [
    {
     "name": "stdout",
     "output_type": "stream",
     "text": [
      "Generated 5 random hexadecimal colors:\n",
      "\t- #2ab5ec\n",
      "\t- #1d84ab\n",
      "\t- #eb4843\n",
      "\t- #083227\n",
      "\t- #d7d972\n"
     ]
    }
   ],
   "source": [
    "# Write a function list_of_hexa_colors which returns any number of hexadecimal colors in an array (six hexadecimal numbers written after #. Hexadecimal numeral system is made out of 16 symbols, 0-9 and first 6 letters of the alphabet, a-f. Check the task 6 for output examples)\n",
    "\n",
    "import random\n",
    "\n",
    "def list_of_hexa_colors(num_colors):\n",
    "    colors = []\n",
    "    for i in range(num_colors):\n",
    "        red = random.randint(0, 255)\n",
    "        green = random.randint(0, 255)\n",
    "        blue = random.randint(0, 255)\n",
    "        hex_color = f\"#{red:02x}{green:02x}{blue:02x}\"\n",
    "        colors.append(hex_color)\n",
    "    return colors\n",
    "colors = list_of_hexa_colors(5)\n",
    "print(f\"Generated 5 random hexadecimal colors:\")\n",
    "for color in colors:\n",
    "    print(f\"\\t- {color}\")"
   ]
  },
  {
   "cell_type": "markdown",
   "metadata": {},
   "source": [
    "#### Exercise 2"
   ]
  },
  {
   "cell_type": "code",
   "execution_count": 11,
   "metadata": {},
   "outputs": [
    {
     "name": "stdout",
     "output_type": "stream",
     "text": [
      "Random RGB Colors: [(90, 219, 11), (166, 236, 207), (133, 25, 238), (126, 91, 215), (250, 105, 189)]\n"
     ]
    }
   ],
   "source": [
    "# Write a function list_of_rgb_colors which returns any number of RGB colors in an array\n",
    "\n",
    "import random\n",
    "\n",
    "def list_of_rgb_colors(num_colors):\n",
    "    \n",
    "    colors_list = [(random.randint(0, 255), random.randint(0, 255), random.randint(0, 255)) for _ in range(num_colors)]\n",
    "    \n",
    "    return colors_list\n",
    "\n",
    "\n",
    "num_colors_to_generate = 5\n",
    "random_rgb_colors = list_of_rgb_colors(num_colors_to_generate)\n",
    "print(\"Random RGB Colors:\", random_rgb_colors)\n"
   ]
  },
  {
   "cell_type": "markdown",
   "metadata": {},
   "source": [
    "#### Exercise 3"
   ]
  },
  {
   "cell_type": "code",
   "execution_count": null,
   "metadata": {},
   "outputs": [],
   "source": [
    "# Write a function generate_colors which can generate any number of hexa or rgb colors\n",
    "\n"
   ]
  },
  {
   "cell_type": "markdown",
   "metadata": {},
   "source": [
    "#### Exercises: Level 3"
   ]
  },
  {
   "cell_type": "markdown",
   "metadata": {},
   "source": [
    "#### Exercise 1"
   ]
  },
  {
   "cell_type": "code",
   "execution_count": 12,
   "metadata": {},
   "outputs": [
    {
     "name": "stdout",
     "output_type": "stream",
     "text": [
      "Original List: [1, 2, 3, 4, 5]\n",
      "Shuffled List: [4, 1, 5, 2, 3]\n"
     ]
    }
   ],
   "source": [
    "# Call your function shuffle_list, it takes a list as a parameter and it returns a shuffled list\n",
    "\n",
    "import random\n",
    "\n",
    "def shuffle_list(input_list):\n",
    "    \n",
    "    shuffled_list = input_list.copy()\n",
    "    \n",
    "\n",
    "    random.shuffle(shuffled_list)\n",
    "    \n",
    "    return shuffled_list\n",
    "\n",
    "\n",
    "original_list = [1, 2, 3, 4, 5]\n",
    "shuffled_result = shuffle_list(original_list)\n",
    "print(\"Original List:\", original_list)\n",
    "print(\"Shuffled List:\", shuffled_result)\n"
   ]
  },
  {
   "cell_type": "markdown",
   "metadata": {},
   "source": [
    "#### Exercise 2"
   ]
  },
  {
   "cell_type": "code",
   "execution_count": 13,
   "metadata": {},
   "outputs": [
    {
     "name": "stdout",
     "output_type": "stream",
     "text": [
      "Generated Random Numbers: [1, 2, 4]\n"
     ]
    }
   ],
   "source": [
    "# Write a function which returns an array of seven random numbers in a range of 0-9. All the numbers must be unique\n",
    "\n",
    "import random\n",
    "\n",
    "def generate_unique_random_numbers():\n",
    "    unique_numbers = random.sample(range(5), 3)\n",
    "    return unique_numbers\n",
    "\n",
    "random_numbers = generate_unique_random_numbers()\n",
    "print(\"Generated Random Numbers:\", random_numbers)"
   ]
  }
 ],
 "metadata": {
  "kernelspec": {
   "display_name": "Python 3",
   "language": "python",
   "name": "python3"
  },
  "language_info": {
   "codemirror_mode": {
    "name": "ipython",
    "version": 3
   },
   "file_extension": ".py",
   "mimetype": "text/x-python",
   "name": "python",
   "nbconvert_exporter": "python",
   "pygments_lexer": "ipython3",
   "version": "3.10.11"
  }
 },
 "nbformat": 4,
 "nbformat_minor": 2
}
