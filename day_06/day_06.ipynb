{
 "cells": [
  {
   "cell_type": "markdown",
   "metadata": {},
   "source": [
    "# Exercises Day 6"
   ]
  },
  {
   "cell_type": "markdown",
   "metadata": {},
   "source": [
    "#### Exercises: Level 1"
   ]
  },
  {
   "cell_type": "markdown",
   "metadata": {},
   "source": [
    "#### Exercise 1\n"
   ]
  },
  {
   "cell_type": "code",
   "execution_count": 4,
   "metadata": {},
   "outputs": [],
   "source": [
    "# Create an empty tuple\n",
    "\n",
    "empty_tuple = ()"
   ]
  },
  {
   "cell_type": "markdown",
   "metadata": {},
   "source": [
    "#### Exercise 2"
   ]
  },
  {
   "cell_type": "code",
   "execution_count": 5,
   "metadata": {},
   "outputs": [
    {
     "name": "stdout",
     "output_type": "stream",
     "text": [
      "('Sumayya', 'Khadija', 'Aisha', 'Zainab', 'Maryam', 'Ahmad', 'Sulaima')\n"
     ]
    }
   ],
   "source": [
    "# Create a tuple containing names of your sisters and your brothers (imaginary siblings are fine)\n",
    "\n",
    "siblings =('Sumayya','Khadija','Aisha','Zainab','Maryam', \"Ahmad\", \"Sulaima\")\n",
    "print(siblings)"
   ]
  },
  {
   "cell_type": "markdown",
   "metadata": {},
   "source": [
    "#### Exercise 3"
   ]
  },
  {
   "cell_type": "code",
   "execution_count": 6,
   "metadata": {},
   "outputs": [
    {
     "name": "stdout",
     "output_type": "stream",
     "text": [
      "('Sumayya', 'Khadija', 'Aisha', 'Zainab', 'Maryam', 'Ahmad', 'Sulaiman')\n"
     ]
    }
   ],
   "source": [
    "# Join brothers and sisters tuples and assign it to siblings\n",
    "\n",
    "sisters = (\"Sumayya\",\"Khadija\", \"Aisha\", \"Zainab\", \"Maryam\")\n",
    "brothers = (\"Ahmad\",\"Sulaiman\",)\n",
    "siblings = sisters + brothers\n",
    "print(siblings)"
   ]
  },
  {
   "cell_type": "markdown",
   "metadata": {},
   "source": [
    "#### Exercise 4"
   ]
  },
  {
   "cell_type": "code",
   "execution_count": 8,
   "metadata": {},
   "outputs": [
    {
     "name": "stdout",
     "output_type": "stream",
     "text": [
      "7\n"
     ]
    }
   ],
   "source": [
    "# How many siblings do you have?\n",
    "\n",
    "print(len(siblings))"
   ]
  },
  {
   "cell_type": "markdown",
   "metadata": {},
   "source": [
    "#### Exercise 5"
   ]
  },
  {
   "cell_type": "code",
   "execution_count": 9,
   "metadata": {},
   "outputs": [
    {
     "name": "stdout",
     "output_type": "stream",
     "text": [
      "('Sumayya', 'Khadija', 'Aisha', 'Zainab', 'Maryam', 'Nura', 'Halima')\n"
     ]
    }
   ],
   "source": [
    "# Modify the siblings tuple and add the name of your father and mother and assign it to family_members\n",
    "\n",
    "siblings = (\"Sumayya\",\"Khadija\", \"Aisha\", \"Zainab\", \"Maryam\")\n",
    "father = \"Nura\"\n",
    "mother = \"Halima\"\n",
    "family_members = siblings + (father, mother)\n",
    "print(family_members)"
   ]
  },
  {
   "cell_type": "markdown",
   "metadata": {},
   "source": [
    "#### Exercises: Level 2\n"
   ]
  },
  {
   "cell_type": "markdown",
   "metadata": {},
   "source": [
    "#### Exercise 1"
   ]
  },
  {
   "cell_type": "code",
   "execution_count": 10,
   "metadata": {},
   "outputs": [
    {
     "name": "stdout",
     "output_type": "stream",
     "text": [
      "('Nura', 'Halima')\n",
      "('Sumayya', 'Khadija')\n",
      "('Aisha', 'Zainab', 'Maryam')\n"
     ]
    }
   ],
   "source": [
    "# Unpack siblings and parents from family_members\n",
    "\n",
    "family_members = ('Sumayya', 'Khadija', 'Aisha', 'Zainab', 'Maryam', 'Nura', 'Halima')\n",
    "sisters = family_members[:2]\n",
    "brothers = family_members[2:5]\n",
    "parents = family_members[5:]\n",
    "print(parents)\n",
    "print(sisters)\n",
    "print(brothers)"
   ]
  },
  {
   "cell_type": "markdown",
   "metadata": {},
   "source": [
    "#### Exercise 2"
   ]
  },
  {
   "cell_type": "markdown",
   "metadata": {},
   "source": [
    "\"\"\" Create fruits, vegetables and animal products tuples. Join the three tuples and assign it to a variable called food_stuff_tp. \"\"\""
   ]
  },
  {
   "cell_type": "code",
   "execution_count": 11,
   "metadata": {},
   "outputs": [
    {
     "name": "stdout",
     "output_type": "stream",
     "text": [
      "('Mango', 'Banana', 'Grape', 'Carrot', 'Spinach', 'Cabbage', 'Meat', 'Fish', 'Egg')\n"
     ]
    }
   ],
   "source": [
    "fruits = ('Mango', 'Banana', 'Grape')\n",
    "vegetables = ('Carrot', 'Spinach', 'Cabbage')\n",
    "animal_products = ('Meat', 'Fish', 'Egg')\n",
    "food_stuff_tp = fruits + vegetables + animal_products\n",
    "print(food_stuff_tp)"
   ]
  },
  {
   "cell_type": "markdown",
   "metadata": {},
   "source": [
    "#### Exericse 3"
   ]
  },
  {
   "cell_type": "code",
   "execution_count": 13,
   "metadata": {},
   "outputs": [
    {
     "name": "stdout",
     "output_type": "stream",
     "text": [
      "['Mango', 'Banana', 'Grape', 'Carrot', 'Spinach', 'Cabbage', 'Meat', 'Fish', 'Egg']\n"
     ]
    }
   ],
   "source": [
    "# Change the about food_stuff_tp tuple to a food_stuff_lt list\n",
    "\n",
    "food_stuff_lt = list(food_stuff_tp)\n",
    "print(food_stuff_lt)"
   ]
  },
  {
   "cell_type": "markdown",
   "metadata": {},
   "source": [
    "#### Exercise 4"
   ]
  },
  {
   "cell_type": "code",
   "execution_count": 14,
   "metadata": {},
   "outputs": [
    {
     "name": "stdout",
     "output_type": "stream",
     "text": [
      "['Spinach']\n"
     ]
    }
   ],
   "source": [
    "# Slice out the middle item or items from the food_stuff_tp tuple or food_stuff_lt list.\n",
    "\n",
    "food_stuff_lt = ['Mango', 'Banana', 'Grape', 'Carrot', 'Spinach', 'Cabbage', 'Meat', 'Fish', 'Eggs']\n",
    "middle = len(food_stuff_lt) // 2\n",
    "middle_item = food_stuff_lt[middle:middle+1]\n",
    "print(middle_item)"
   ]
  },
  {
   "cell_type": "markdown",
   "metadata": {},
   "source": [
    "#### Exercise 5"
   ]
  },
  {
   "cell_type": "code",
   "execution_count": 15,
   "metadata": {},
   "outputs": [
    {
     "name": "stdout",
     "output_type": "stream",
     "text": [
      "['Mango', 'Banana', 'Grape', 'Meat', 'Fish', 'Eggs']\n"
     ]
    }
   ],
   "source": [
    "# Slice out the first three items and the last three items from food_staff_lt list\n",
    "\n",
    "sliced_lt = food_stuff_lt[:3] + food_stuff_lt[-3:]\n",
    "print(sliced_lt)"
   ]
  },
  {
   "cell_type": "markdown",
   "metadata": {},
   "source": [
    "#### Exercise 6"
   ]
  },
  {
   "cell_type": "code",
   "execution_count": 16,
   "metadata": {},
   "outputs": [],
   "source": [
    "# Delete the food_staff_tp tuple completely\n",
    "\n",
    "food_stuff_tp = ('Mango', 'Banana', 'Grape', 'Carrot', 'Spinach', 'Cabbage', 'Meat', 'Fish', 'Egg')\n",
    "del food_stuff_tp"
   ]
  },
  {
   "cell_type": "markdown",
   "metadata": {},
   "source": [
    "#### Exercise 7"
   ]
  },
  {
   "cell_type": "code",
   "execution_count": 17,
   "metadata": {},
   "outputs": [
    {
     "name": "stdout",
     "output_type": "stream",
     "text": [
      "('Denmark', 'Finland', 'Iceland', 'Norway', 'Sweden')\n"
     ]
    }
   ],
   "source": [
    "# Check if an item exists in tuple:\n",
    "\n",
    "nordic_countries = ('Denmark', 'Finland','Iceland', 'Norway', 'Sweden')\n",
    "print(nordic_countries)"
   ]
  },
  {
   "cell_type": "code",
   "execution_count": 18,
   "metadata": {},
   "outputs": [
    {
     "data": {
      "text/plain": [
       "False"
      ]
     },
     "execution_count": 18,
     "metadata": {},
     "output_type": "execute_result"
    }
   ],
   "source": [
    "# Check if 'Estonia' is a nordic country\n",
    "\n",
    "'Estonia' in nordic_countries"
   ]
  },
  {
   "cell_type": "code",
   "execution_count": 19,
   "metadata": {},
   "outputs": [
    {
     "data": {
      "text/plain": [
       "True"
      ]
     },
     "execution_count": 19,
     "metadata": {},
     "output_type": "execute_result"
    }
   ],
   "source": [
    "# Check if 'Iceland' is a nordic country\n",
    "\n",
    "'Iceland' in nordic_countries"
   ]
  }
 ],
 "metadata": {
  "kernelspec": {
   "display_name": "Python 3",
   "language": "python",
   "name": "python3"
  },
  "language_info": {
   "codemirror_mode": {
    "name": "ipython",
    "version": 3
   },
   "file_extension": ".py",
   "mimetype": "text/x-python",
   "name": "python",
   "nbconvert_exporter": "python",
   "pygments_lexer": "ipython3",
   "version": "3.10.11"
  }
 },
 "nbformat": 4,
 "nbformat_minor": 2
}
