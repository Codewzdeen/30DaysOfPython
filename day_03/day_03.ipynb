{
 "cells": [
  {
   "cell_type": "markdown",
   "metadata": {},
   "source": [
    "# Exercises - Day 3"
   ]
  },
  {
   "cell_type": "markdown",
   "metadata": {},
   "source": [
    "#### Exercise 1"
   ]
  },
  {
   "cell_type": "markdown",
   "metadata": {},
   "source": [
    "#### Declare your age as integer variable"
   ]
  },
  {
   "cell_type": "code",
   "execution_count": 1,
   "metadata": {},
   "outputs": [
    {
     "name": "stdout",
     "output_type": "stream",
     "text": [
      "age:  30\n"
     ]
    }
   ],
   "source": [
    "age = 30\n",
    "\n",
    "print(\"age: \", age)"
   ]
  },
  {
   "cell_type": "markdown",
   "metadata": {},
   "source": [
    "#### Exercise 2"
   ]
  },
  {
   "cell_type": "markdown",
   "metadata": {},
   "source": [
    "#### Declare your height as a float variable"
   ]
  },
  {
   "cell_type": "code",
   "execution_count": 2,
   "metadata": {},
   "outputs": [
    {
     "name": "stdout",
     "output_type": "stream",
     "text": [
      "height:  165.2\n"
     ]
    }
   ],
   "source": [
    "height = 165.2\n",
    "\n",
    "print(\"height: \" ,height)"
   ]
  },
  {
   "cell_type": "markdown",
   "metadata": {},
   "source": [
    "#### Exercise 3"
   ]
  },
  {
   "cell_type": "markdown",
   "metadata": {},
   "source": [
    "#### Declare a variable that store a complex number"
   ]
  },
  {
   "cell_type": "code",
   "execution_count": 3,
   "metadata": {},
   "outputs": [
    {
     "name": "stdout",
     "output_type": "stream",
     "text": [
      "complex_number:  10j\n"
     ]
    }
   ],
   "source": [
    "comp_num = 5*2j\n",
    "\n",
    "print(\"complex_number: \" ,comp_num)"
   ]
  },
  {
   "cell_type": "markdown",
   "metadata": {},
   "source": [
    "#### Exercise 4"
   ]
  },
  {
   "cell_type": "markdown",
   "metadata": {},
   "source": [
    "#### Write a script that prompts the user to enter base and height of the triangle and calculate an area of this triangle (area = 0.5 x b x h)"
   ]
  },
  {
   "cell_type": "code",
   "execution_count": 14,
   "metadata": {},
   "outputs": [
    {
     "name": "stdout",
     "output_type": "stream",
     "text": [
      "area of the angle is:  100.0\n"
     ]
    }
   ],
   "source": [
    "base = 20\n",
    "height = 10\n",
    "area = 0.5*base*height\n",
    "print(\"area of the angle is: \", area)"
   ]
  },
  {
   "cell_type": "markdown",
   "metadata": {},
   "source": [
    "#### Exercise 5"
   ]
  },
  {
   "cell_type": "markdown",
   "metadata": {},
   "source": [
    "#### Write a script that prompts the user to enter side a, side b, and side c of the triangle. Calculate the perimeter of the triangle (perimeter = a + b + c)"
   ]
  },
  {
   "cell_type": "code",
   "execution_count": 12,
   "metadata": {},
   "outputs": [
    {
     "name": "stdout",
     "output_type": "stream",
     "text": [
      "perimeter of the triangle is:  12\n"
     ]
    }
   ],
   "source": [
    "a = 5\n",
    "b = 4\n",
    "c = 3\n",
    "perimeter = a + b + c\n",
    "print(\"perimeter of the triangle is: \", perimeter)"
   ]
  },
  {
   "cell_type": "markdown",
   "metadata": {},
   "source": [
    "#### Exercise 6"
   ]
  },
  {
   "cell_type": "markdown",
   "metadata": {},
   "source": [
    "#### Get length and width of a rectangle using prompt. Calculate its area (area = length x width) and perimeter (perimeter = 2 x (length + width))"
   ]
  },
  {
   "cell_type": "code",
   "execution_count": 15,
   "metadata": {},
   "outputs": [
    {
     "name": "stdout",
     "output_type": "stream",
     "text": [
      "The area of the rectangle is: 200\n",
      "The perimeter of the rectangle is: 60\n"
     ]
    }
   ],
   "source": [
    "length = 10\n",
    "width = 20\n",
    "\n",
    "area = length * width\n",
    "perimeter = 2 * (length + width)\n",
    "        \n",
    "print(\"The area of the rectangle is:\", area)\n",
    "print(\"The perimeter of the rectangle is:\", perimeter)"
   ]
  },
  {
   "cell_type": "markdown",
   "metadata": {},
   "source": [
    "#### Exercise 7"
   ]
  },
  {
   "cell_type": "markdown",
   "metadata": {},
   "source": [
    "#### Get radius of a circle using prompt. Calculate the area (area = pi x r x r) and circumference (c = 2 x pi x r) where pi = 3.14"
   ]
  },
  {
   "cell_type": "code",
   "execution_count": 32,
   "metadata": {},
   "outputs": [
    {
     "name": "stdout",
     "output_type": "stream",
     "text": [
      "area:  3.14\n",
      "circumference:  6.28\n"
     ]
    }
   ],
   "source": [
    "import math\n",
    "from math import pi\n",
    "area = 3.14 * r * r\n",
    "circumference = 2 * 3.14 * r\n",
    "\n",
    "print (\"area: \", area)\n",
    "print(\"circumference: \", circumference)"
   ]
  },
  {
   "cell_type": "markdown",
   "metadata": {},
   "source": [
    "#### Exercise 8"
   ]
  },
  {
   "cell_type": "markdown",
   "metadata": {},
   "source": [
    "#### Calculate the slope, x-intercept and y-intercept of y = 2x -2"
   ]
  },
  {
   "cell_type": "code",
   "execution_count": 35,
   "metadata": {},
   "outputs": [
    {
     "name": "stdout",
     "output_type": "stream",
     "text": [
      "Slope :  2\n",
      "x-intercept :  (1, 0)\n",
      "y-intercept:  (0, -2)\n"
     ]
    }
   ],
   "source": [
    "equation = \"y = 2x - 2\"\n",
    "slope = 2\n",
    "x_intercept = 1\n",
    "y_intercept = -2 \n",
    "\n",
    "print(\"Slope : \", slope)\n",
    "print(\"x-intercept : \", (x_intercept, 0))\n",
    "print(\"y-intercept: \", (0, y_intercept))\n"
   ]
  },
  {
   "cell_type": "markdown",
   "metadata": {},
   "source": [
    "#### Exercise 9"
   ]
  },
  {
   "cell_type": "markdown",
   "metadata": {},
   "source": [
    "#### Slope is (m = y2-y1/x2-x1). Find the slope and Euclidean distance between point (2, 2) and point (6,10)"
   ]
  },
  {
   "cell_type": "code",
   "execution_count": 38,
   "metadata": {},
   "outputs": [
    {
     "name": "stdout",
     "output_type": "stream",
     "text": [
      "Slope: 2\n",
      "Euclidean distance: 8.94427190999916\n"
     ]
    }
   ],
   "source": [
    "\n",
    "import math\n",
    "\n",
    "point1 = [2, 2]\n",
    "point2 = [6, 10]\n",
    "distance = math.sqrt(((point1[0] - point2[0]) ** 2) + ((point1[1] - point2[1]) ** 2))\n",
    "\n",
    "print(\"Slope:\", slope)\n",
    "print(\"Euclidean distance:\", distance)"
   ]
  },
  {
   "cell_type": "markdown",
   "metadata": {},
   "source": [
    "#### Exercise 10"
   ]
  },
  {
   "cell_type": "markdown",
   "metadata": {},
   "source": [
    "#### Compare the slopes in tasks 8 and 9"
   ]
  },
  {
   "cell_type": "code",
   "execution_count": 39,
   "metadata": {},
   "outputs": [
    {
     "name": "stdout",
     "output_type": "stream",
     "text": [
      "The slopes are equal.\n"
     ]
    }
   ],
   "source": [
    "slope8 = 2\n",
    "\n",
    "point1 = (2, 2)\n",
    "point2 = (6, 10)\n",
    "slope9 = (point2[1] - point1[1]) / (point2[0] - point1[0])\n",
    "\n",
    "if slope8 == slope9:\n",
    "    print(\"The slopes are equal.\")\n",
    "else:\n",
    "    print(\"The slopes are not eqaul.\")"
   ]
  },
  {
   "cell_type": "markdown",
   "metadata": {},
   "source": [
    "#### Exercise 11"
   ]
  },
  {
   "cell_type": "markdown",
   "metadata": {},
   "source": [
    "#### Calculate the value of y (y = x^2 + 6x + 9). Try to use different x values and figure out at what x value y is going to be 0"
   ]
  },
  {
   "cell_type": "code",
   "execution_count": 40,
   "metadata": {},
   "outputs": [
    {
     "name": "stdout",
     "output_type": "stream",
     "text": [
      "x: -5 y: 4\n",
      "x: -4 y: 1\n",
      "x: -3 y: 0\n",
      "x value where y is 0: -3\n",
      "x: -2 y: 1\n",
      "x: -1 y: 4\n",
      "x: 0 y: 9\n",
      "x: 1 y: 16\n",
      "x: 2 y: 25\n",
      "x: 3 y: 36\n",
      "x: 4 y: 49\n",
      "x: 5 y: 64\n"
     ]
    }
   ],
   "source": [
    "def calculate_y(x):\n",
    "  y = x**2 + 6*x + 9\n",
    "  return y\n",
    "\n",
    "x_values = range(-5, 6)\n",
    "\n",
    "for x in x_values:\n",
    "  y = calculate_y(x)\n",
    "  print(\"x:\", x, \"y:\", y)\n",
    "\n",
    "  if y == 0:\n",
    "    print(\"x value where y is 0:\", x)"
   ]
  },
  {
   "cell_type": "markdown",
   "metadata": {},
   "source": [
    "#### Exercise 12"
   ]
  },
  {
   "cell_type": "markdown",
   "metadata": {},
   "source": [
    "#### Find the length of 'python' and 'dragon' and make a falsy comparison statement"
   ]
  },
  {
   "cell_type": "code",
   "execution_count": 42,
   "metadata": {},
   "outputs": [
    {
     "name": "stdout",
     "output_type": "stream",
     "text": [
      "Length of 'python': 6\n",
      "Length of 'dragon': 6\n",
      "False\n"
     ]
    }
   ],
   "source": [
    "python = len('python')\n",
    "print(\"Length of 'python':\", python)\n",
    "\n",
    "dragon = len('dragon')\n",
    "print(\"Length of 'dragon':\", dragon)\n",
    "\n",
    "print('python' <= 'dragon')"
   ]
  },
  {
   "cell_type": "markdown",
   "metadata": {},
   "source": [
    "#### Exercise 13"
   ]
  },
  {
   "cell_type": "markdown",
   "metadata": {},
   "source": [
    "#### Use and operator to check if 'on' is found in both 'python' and 'dragon'"
   ]
  },
  {
   "cell_type": "code",
   "execution_count": 43,
   "metadata": {},
   "outputs": [
    {
     "name": "stdout",
     "output_type": "stream",
     "text": [
      "True\n"
     ]
    }
   ],
   "source": [
    "check_on = 'on' in 'python' and 'on' in 'dragon'\n",
    "print(check_on)"
   ]
  },
  {
   "cell_type": "markdown",
   "metadata": {},
   "source": [
    "#### Exercise 14"
   ]
  },
  {
   "cell_type": "markdown",
   "metadata": {},
   "source": [
    "#### I hope this course is not full of jargon. Use in operator to check if jargon is in the sentence"
   ]
  },
  {
   "cell_type": "code",
   "execution_count": 44,
   "metadata": {},
   "outputs": [
    {
     "name": "stdout",
     "output_type": "stream",
     "text": [
      "Jargon is in the sentence\n"
     ]
    }
   ],
   "source": [
    "sentence = \"I hope this course is not full of jargon\"\n",
    "jargon = \"jargon\"\n",
    "\n",
    "if jargon in sentence:\n",
    "  print(\"Jargon is in the sentence\")\n",
    "else:\n",
    "  print(\"Jargon is not in the sentence\")"
   ]
  },
  {
   "cell_type": "markdown",
   "metadata": {},
   "source": [
    "#### Exercise 15"
   ]
  },
  {
   "cell_type": "markdown",
   "metadata": {},
   "source": [
    "#### There is no 'on' in both dragon and python"
   ]
  },
  {
   "cell_type": "code",
   "execution_count": 45,
   "metadata": {},
   "outputs": [
    {
     "name": "stdout",
     "output_type": "stream",
     "text": [
      "False\n"
     ]
    }
   ],
   "source": [
    "check_on = 'on' in 'python' and 'on' in 'dragon'\n",
    "\n",
    "print(not check_on)"
   ]
  },
  {
   "cell_type": "markdown",
   "metadata": {},
   "source": [
    "### Exercise 16"
   ]
  },
  {
   "cell_type": "markdown",
   "metadata": {},
   "source": [
    "#### Find the length of the text python and convert the value to float and convert it to string"
   ]
  },
  {
   "cell_type": "code",
   "execution_count": 84,
   "metadata": {},
   "outputs": [
    {
     "ename": "TypeError",
     "evalue": "'float' object is not callable",
     "output_type": "error",
     "traceback": [
      "\u001b[1;31m---------------------------------------------------------------------------\u001b[0m",
      "\u001b[1;31mTypeError\u001b[0m                                 Traceback (most recent call last)",
      "\u001b[1;32mc:\\Users\\hp\\Desktop\\30DaysOfPython\\day_03\\day_03.ipynb Cell 49\u001b[0m line \u001b[0;36m3\n\u001b[0;32m      <a href='vscode-notebook-cell:/c%3A/Users/hp/Desktop/30DaysOfPython/day_03/day_03.ipynb#X66sZmlsZQ%3D%3D?line=0'>1</a>\u001b[0m text \u001b[39m=\u001b[39m \u001b[39m\"\u001b[39m\u001b[39mpython\u001b[39m\u001b[39m\"\u001b[39m\n\u001b[0;32m      <a href='vscode-notebook-cell:/c%3A/Users/hp/Desktop/30DaysOfPython/day_03/day_03.ipynb#X66sZmlsZQ%3D%3D?line=1'>2</a>\u001b[0m length \u001b[39m=\u001b[39m \u001b[39mlen\u001b[39m(text)\n\u001b[1;32m----> <a href='vscode-notebook-cell:/c%3A/Users/hp/Desktop/30DaysOfPython/day_03/day_03.ipynb#X66sZmlsZQ%3D%3D?line=2'>3</a>\u001b[0m length_as_float \u001b[39m=\u001b[39m \u001b[39mfloat\u001b[39;49m(length)\n\u001b[0;32m      <a href='vscode-notebook-cell:/c%3A/Users/hp/Desktop/30DaysOfPython/day_03/day_03.ipynb#X66sZmlsZQ%3D%3D?line=3'>4</a>\u001b[0m length_as_string \u001b[39m=\u001b[39m \u001b[39mstr\u001b[39m(length_as_float)\n\u001b[0;32m      <a href='vscode-notebook-cell:/c%3A/Users/hp/Desktop/30DaysOfPython/day_03/day_03.ipynb#X66sZmlsZQ%3D%3D?line=4'>5</a>\u001b[0m \u001b[39mprint\u001b[39m(\u001b[39mf\u001b[39m\u001b[39m\"\u001b[39m\u001b[39mlength as float: \u001b[39m\u001b[39m{\u001b[39;00mlength_as_float\u001b[39m}\u001b[39;00m\u001b[39m, length as string: \u001b[39m\u001b[39m{\u001b[39;00mlength_as_string\u001b[39m}\u001b[39;00m\u001b[39m\"\u001b[39m)\n",
      "\u001b[1;31mTypeError\u001b[0m: 'float' object is not callable"
     ]
    }
   ],
   "source": [
    "text = \"python\"\n",
    "length = len(text)\n",
    "length_as_float = float(length)\n",
    "length_as_string = str(length_as_float)\n",
    "print(f\"length as float: {length_as_float}, length as string: {length_as_string}\")\n"
   ]
  },
  {
   "cell_type": "markdown",
   "metadata": {},
   "source": [
    "#### Exercise 17"
   ]
  },
  {
   "cell_type": "markdown",
   "metadata": {},
   "source": [
    "#### Even numbers are divisible by 2 and the remainder is zero. How do you check if a number is even or not using python?"
   ]
  },
  {
   "cell_type": "code",
   "execution_count": 64,
   "metadata": {},
   "outputs": [
    {
     "name": "stdout",
     "output_type": "stream",
     "text": [
      "10 is an even number.\n"
     ]
    }
   ],
   "source": [
    "num = int(input(\"Enter a number: \"))\n",
    "\n",
    "if num % 2 == 0:\n",
    "  print(num, \"is an even number.\")\n",
    "else:\n",
    "  print(num, \"is an odd number.\")"
   ]
  },
  {
   "cell_type": "markdown",
   "metadata": {},
   "source": [
    "#### Exercise 18"
   ]
  },
  {
   "cell_type": "markdown",
   "metadata": {},
   "source": [
    "#### Check if the floor division of 7 by 3 is equal to the int converted value of 2.7"
   ]
  },
  {
   "cell_type": "code",
   "execution_count": 66,
   "metadata": {},
   "outputs": [
    {
     "name": "stdout",
     "output_type": "stream",
     "text": [
      "The floor division of 7 by 3 is equal to the int converted value of 2.7\n"
     ]
    }
   ],
   "source": [
    "floor_division = 7 // 3\n",
    "int_convert = int(2.7)\n",
    "\n",
    "if floor_division == int_convert:\n",
    "  print(\"The floor division of 7 by 3 is equal to the int converted value of 2.7\")\n",
    "else:\n",
    "  print(\"The floor division of 7 by 3 is not equal to the int converted value of 2.7\")"
   ]
  },
  {
   "cell_type": "markdown",
   "metadata": {},
   "source": [
    "#### Exercise 19"
   ]
  },
  {
   "cell_type": "markdown",
   "metadata": {},
   "source": [
    "#### Check if type of '10' is equal to type of 10"
   ]
  },
  {
   "cell_type": "code",
   "execution_count": 67,
   "metadata": {},
   "outputs": [
    {
     "name": "stdout",
     "output_type": "stream",
     "text": [
      "The type of '10' is not equal to the type of 10\n"
     ]
    }
   ],
   "source": [
    "str_10 = type('10')\n",
    "int_10 = type(10)\n",
    "\n",
    "if str_10 == int_10:\n",
    "    print(\"The type of '10' is equal to the type of 10\")\n",
    "else:\n",
    "    print(\"The type of '10' is not equal to the type of 10\")"
   ]
  },
  {
   "cell_type": "markdown",
   "metadata": {},
   "source": [
    "#### Exercise 20"
   ]
  },
  {
   "cell_type": "markdown",
   "metadata": {},
   "source": [
    "#### Check if int('9.8') is equal to 10"
   ]
  },
  {
   "cell_type": "code",
   "execution_count": 69,
   "metadata": {},
   "outputs": [
    {
     "name": "stdout",
     "output_type": "stream",
     "text": [
      "int'9.8' is not equal to 10\n"
     ]
    }
   ],
   "source": [
    "x = ('9.8')\n",
    "y = 10\n",
    "if x == y:\n",
    "    print(\"int'9.8' is equal to 10\")\n",
    "else:\n",
    "    print(\"int'9.8' is not equal to 10\")"
   ]
  },
  {
   "cell_type": "markdown",
   "metadata": {},
   "source": [
    "#### Exercise 21"
   ]
  },
  {
   "cell_type": "markdown",
   "metadata": {},
   "source": [
    "#### Writ a script that prompts the user to enter hours and rate per hour. Calculate pay of the person?"
   ]
  },
  {
   "cell_type": "code",
   "execution_count": 76,
   "metadata": {},
   "outputs": [
    {
     "name": "stdout",
     "output_type": "stream",
     "text": [
      "Your weekly earning is: 1120\n"
     ]
    }
   ],
   "source": [
    "hours = 40\n",
    "rate_per_hour = 28\n",
    "\n",
    "pay = hours * rate_per_hour\n",
    "print(\"Your weekly earning is:\", pay)"
   ]
  },
  {
   "cell_type": "markdown",
   "metadata": {},
   "source": [
    "#### Exercise 22"
   ]
  },
  {
   "cell_type": "markdown",
   "metadata": {},
   "source": [
    "#### Write a script that prompts the user to enter number of years. Calculate the number of seconds a person can live. Assume a person can live hundred years"
   ]
  },
  {
   "cell_type": "code",
   "execution_count": 77,
   "metadata": {},
   "outputs": [
    {
     "name": "stdout",
     "output_type": "stream",
     "text": [
      "You have lived for 3153600000 seconds\n"
     ]
    }
   ],
   "source": [
    "years = 100\n",
    "seconds_in_a_year = 365 * 24 * 60 * 60\n",
    "total_seconds = years * seconds_in_a_year\n",
    "\n",
    "print(\"You have lived for\", total_seconds, \"seconds\")"
   ]
  },
  {
   "cell_type": "markdown",
   "metadata": {},
   "source": [
    "#### Exercise 23"
   ]
  },
  {
   "cell_type": "markdown",
   "metadata": {},
   "source": [
    "#### Write a Python script that displays the following table"
   ]
  },
  {
   "cell_type": "code",
   "execution_count": 78,
   "metadata": {},
   "outputs": [
    {
     "name": "stdout",
     "output_type": "stream",
     "text": [
      " 1  1  1  1  1 \n",
      " 2  1  2  4  8 \n",
      " 3  1  3  9  27 \n",
      " 4  1  4  16  64 \n",
      " 5  1  5  25  125 \n"
     ]
    }
   ],
   "source": [
    "print(\" 1  1  1  1  1 \")\n",
    "print(\" 2  1  2  4  8 \")\n",
    "print(\" 3  1  3  9  27 \")\n",
    "print(\" 4  1  4  16  64 \")\n",
    "print(\" 5  1  5  25  125 \")"
   ]
  }
 ],
 "metadata": {
  "kernelspec": {
   "display_name": "Python 3",
   "language": "python",
   "name": "python3"
  },
  "language_info": {
   "codemirror_mode": {
    "name": "ipython",
    "version": 3
   },
   "file_extension": ".py",
   "mimetype": "text/x-python",
   "name": "python",
   "nbconvert_exporter": "python",
   "pygments_lexer": "ipython3",
   "version": "3.10.11"
  }
 },
 "nbformat": 4,
 "nbformat_minor": 2
}
