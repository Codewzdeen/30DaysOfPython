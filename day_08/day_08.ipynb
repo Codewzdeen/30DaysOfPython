{
 "cells": [
  {
   "cell_type": "markdown",
   "metadata": {},
   "source": [
    "# Exercises Day 8"
   ]
  },
  {
   "cell_type": "markdown",
   "metadata": {},
   "source": [
    "#### Exercise 1"
   ]
  },
  {
   "cell_type": "code",
   "execution_count": 1,
   "metadata": {},
   "outputs": [],
   "source": [
    "# Create an empty dictionary called dog\n",
    "\n",
    "dog = {}"
   ]
  },
  {
   "cell_type": "markdown",
   "metadata": {},
   "source": [
    "#### Exercise 2"
   ]
  },
  {
   "cell_type": "code",
   "execution_count": 2,
   "metadata": {},
   "outputs": [
    {
     "name": "stdout",
     "output_type": "stream",
     "text": [
      "{'name': 'oscar', 'color': 'green', 'breed': 'african', 'legs': 4, 'age': 2}\n"
     ]
    }
   ],
   "source": [
    "# Add name, color, breed, legs, age to the dog dictionary\n",
    "\n",
    "dog = {'name': 'oscar', 'color': 'green', 'breed': 'african', 'legs': 4, 'age': 2}\n",
    "print(dog)"
   ]
  },
  {
   "cell_type": "markdown",
   "metadata": {},
   "source": [
    "#### Exercise 3"
   ]
  },
  {
   "cell_type": "markdown",
   "metadata": {},
   "source": [
    "\"\"\" Create a student dictionary and add first_name, last_name, gender, age, marital status, skills, country, city and address as keys for the dictionary\"\"\""
   ]
  },
  {
   "cell_type": "code",
   "execution_count": 3,
   "metadata": {},
   "outputs": [
    {
     "name": "stdout",
     "output_type": "stream",
     "text": [
      "{'first_name': 'Zaharaddeen', 'last_name': 'Nura', 'gender': 'Male', 'age': 30, 'marital_status': 'Single', 'skills': ['Python', 'R', 'Excel'], 'country': 'Nigeria', 'city': 'Kano', 'address': 'Badawa yan tifa street'}\n"
     ]
    }
   ],
   "source": [
    "student = {}\n",
    "student['first_name'] = 'Zaharaddeen'\n",
    "student['last_name'] = 'Nura'\n",
    "student['gender'] = 'Male'\n",
    "student['age'] = 30\n",
    "student['marital_status'] = 'Single'\n",
    "student['skills'] = ['Python', 'R', 'Excel']\n",
    "student['country'] = 'Nigeria'\n",
    "student['city'] = 'Kano'\n",
    "student['address'] = 'Badawa yan tifa street'\n",
    "\n",
    "print (student)\n"
   ]
  },
  {
   "cell_type": "markdown",
   "metadata": {},
   "source": [
    "#### Exercise 4"
   ]
  },
  {
   "cell_type": "code",
   "execution_count": 4,
   "metadata": {},
   "outputs": [
    {
     "name": "stdout",
     "output_type": "stream",
     "text": [
      "9\n"
     ]
    }
   ],
   "source": [
    "# Get the length of the student dictionary\n",
    "\n",
    "print(len(student))"
   ]
  },
  {
   "cell_type": "markdown",
   "metadata": {},
   "source": [
    "#### Exercise 5"
   ]
  },
  {
   "cell_type": "code",
   "execution_count": 5,
   "metadata": {},
   "outputs": [
    {
     "name": "stdout",
     "output_type": "stream",
     "text": [
      "Data type: <class 'list'>\n",
      "Value: True\n"
     ]
    }
   ],
   "source": [
    "# Get the value of skills and check the data type, it should be a list\n",
    "\n",
    "skills_value = student['skills']\n",
    "print(f'Data type: {type(skills_value)}')\n",
    "print(f'Value: {isinstance(skills_value, list)}')"
   ]
  },
  {
   "cell_type": "markdown",
   "metadata": {},
   "source": [
    "#### Exercise 6"
   ]
  },
  {
   "cell_type": "code",
   "execution_count": 6,
   "metadata": {},
   "outputs": [
    {
     "name": "stdout",
     "output_type": "stream",
     "text": [
      "{'first_name': 'Zaharaddeen', 'last_name': 'Nura', 'gender': 'Male', 'age': 30, 'marital_status': 'Single', 'skills': ['Python', 'R', 'Excel', 'STATA', 'SQL'], 'country': 'Nigeria', 'city': 'Kano', 'address': 'Badawa yan tifa street'}\n"
     ]
    }
   ],
   "source": [
    "# Modify the skills values by adding one or two skills\n",
    "\n",
    "student['skills'].extend(['STATA', 'SQL'])\n",
    "print(student)"
   ]
  },
  {
   "cell_type": "markdown",
   "metadata": {},
   "source": [
    "#### Exercise 7"
   ]
  },
  {
   "cell_type": "code",
   "execution_count": 7,
   "metadata": {},
   "outputs": [
    {
     "name": "stdout",
     "output_type": "stream",
     "text": [
      "dict_keys(['first_name', 'last_name', 'gender', 'age', 'marital_status', 'skills', 'country', 'city', 'address'])\n"
     ]
    }
   ],
   "source": [
    "# Get the dictionary keys as a list\n",
    "\n",
    "keys = student.keys()\n",
    "print(keys)"
   ]
  },
  {
   "cell_type": "markdown",
   "metadata": {},
   "source": [
    "#### Exercise 8"
   ]
  },
  {
   "cell_type": "code",
   "execution_count": 8,
   "metadata": {},
   "outputs": [
    {
     "name": "stdout",
     "output_type": "stream",
     "text": [
      "dict_values(['Zaharaddeen', 'Nura', 'Male', 30, 'Single', ['Python', 'R', 'Excel', 'STATA', 'SQL'], 'Nigeria', 'Kano', 'Badawa yan tifa street'])\n"
     ]
    }
   ],
   "source": [
    "# Get the dictionary values as a list\n",
    "\n",
    "values = student.values()\n",
    "print(values) "
   ]
  },
  {
   "cell_type": "markdown",
   "metadata": {},
   "source": [
    "#### Exercise 9"
   ]
  },
  {
   "cell_type": "code",
   "execution_count": 9,
   "metadata": {},
   "outputs": [
    {
     "name": "stdout",
     "output_type": "stream",
     "text": [
      "As a list of tuples: [('first_name', 'Zaharaddeen'), ('last_name', 'Nura'), ('gender', 'Male'), ('age', 30), ('marital_status', 'Single'), ('skills', ['Python', 'R', 'Excel', 'STATA', 'SQL']), ('country', 'Nigeria'), ('city', 'Kano'), ('address', 'Badawa yan tifa street')]\n"
     ]
    }
   ],
   "source": [
    "# Change the dictionary to a list of tuples using items() method\n",
    "\n",
    "list_tuple = student.items()\n",
    "print(f\"As a list of tuples: {list(list_tuple)}\")"
   ]
  },
  {
   "cell_type": "markdown",
   "metadata": {},
   "source": [
    "#### Exercise 10"
   ]
  },
  {
   "cell_type": "code",
   "execution_count": 10,
   "metadata": {},
   "outputs": [],
   "source": [
    "# Delete one of the items in the dictionary\n",
    "\n",
    "del student['age'] "
   ]
  },
  {
   "cell_type": "markdown",
   "metadata": {},
   "source": [
    "#### Exercise 11"
   ]
  },
  {
   "cell_type": "code",
   "execution_count": 17,
   "metadata": {},
   "outputs": [],
   "source": [
    "# Delete one of the dictionaries\n",
    "\n",
    "\n",
    "student = {}\n",
    "del student"
   ]
  }
 ],
 "metadata": {
  "kernelspec": {
   "display_name": "Python 3",
   "language": "python",
   "name": "python3"
  },
  "language_info": {
   "codemirror_mode": {
    "name": "ipython",
    "version": 3
   },
   "file_extension": ".py",
   "mimetype": "text/x-python",
   "name": "python",
   "nbconvert_exporter": "python",
   "pygments_lexer": "ipython3",
   "version": "3.10.11"
  }
 },
 "nbformat": 4,
 "nbformat_minor": 2
}
