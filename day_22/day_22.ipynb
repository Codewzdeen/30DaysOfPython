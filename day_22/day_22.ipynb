{
 "cells": [
  {
   "cell_type": "markdown",
   "metadata": {},
   "source": [
    "# Exercises: Day 22"
   ]
  },
  {
   "cell_type": "markdown",
   "metadata": {},
   "source": [
    "#### Exercises 1"
   ]
  },
  {
   "cell_type": "code",
   "execution_count": 4,
   "metadata": {},
   "outputs": [
    {
     "name": "stdout",
     "output_type": "stream",
     "text": [
      "Data has been successfully scraped and saved as scraped_data.json\n"
     ]
    }
   ],
   "source": [
    "# Scrape the following website and store the data as json file(url = 'http://www.bu.edu/president/boston-university-facts-stats/').\n",
    "\n",
    "import requests\n",
    "from bs4 import BeautifulSoup\n",
    "import json\n",
    "\n",
    "url = 'http://www.bu.edu/president/boston-university-facts-stats/'\n",
    "response = requests.get(url)\n",
    "if response.status_code == 200:\n",
    "    soup = BeautifulSoup(response.text, 'html.parser')\n",
    "    links = [a['href'] for a in soup.find_all('a', href=True)]\n",
    "    data = {'url': url, 'links': links}\n",
    "    json_data = json.dumps(data, indent=2)\n",
    "    with open('scraped_data.json', 'w') as json_file:\n",
    "        json_file.write(json_data)\n",
    "    print('Data has been successfully scraped and saved as scraped_data.json')\n",
    "else:\n",
    "    print('Failed to retrieve the webpage. Status code:', response.status_code)\n"
   ]
  },
  {
   "cell_type": "markdown",
   "metadata": {},
   "source": [
    "#### Exercises 2"
   ]
  },
  {
   "cell_type": "code",
   "execution_count": 6,
   "metadata": {},
   "outputs": [
    {
     "name": "stdout",
     "output_type": "stream",
     "text": [
      "Failed to retrieve the webpage. Status code: 404\n"
     ]
    }
   ],
   "source": [
    "# Extract the table in this url (https://archive.ics.uci.edu/ml/datasets.php) and change it to a json file\n",
    "\n",
    "import requests\n",
    "from bs4 import BeautifulSoup\n",
    "import pandas as pd\n",
    "import json\n",
    "\n",
    "url = 'https://archive.ics.uci.edu/ml/datasets.php'\n",
    "response = requests.get(url)\n",
    "if response.status_code == 200:\n",
    "    soup = BeautifulSoup(response.text, 'html.parser')\n",
    "    table = soup.find('table', {'border': '1'})\n",
    "    df = pd.read_html(str(table))[0]  \n",
    "    data = df.to_dict(orient='records')\n",
    "    json_data = json.dumps(data, indent=2)\n",
    "    with open('uci_datasets.json', 'w') as json_file:\n",
    "        json_file.write(json_data)\n",
    "\n",
    "    print('Table data has been successfully extracted and saved as uci_datasets.json')\n",
    "else:\n",
    "    print('Failed to retrieve the webpage. Status code:', response.status_code)"
   ]
  },
  {
   "cell_type": "markdown",
   "metadata": {},
   "source": [
    "#### Exercises 3"
   ]
  },
  {
   "cell_type": "code",
   "execution_count": 8,
   "metadata": {},
   "outputs": [
    {
     "name": "stdout",
     "output_type": "stream",
     "text": [
      "Presidents data has been scraped and saved as presidents.json.\n"
     ]
    }
   ],
   "source": [
    "# Scrape the presidents table and store the data as json(https://en.wikipedia.org/wiki/List_of_presidents_of_the_United_States). The table is not very structured and the scrapping may take very long time.\n",
    "\n",
    "import requests\n",
    "from bs4 import BeautifulSoup\n",
    "import json\n",
    "\n",
    "url = 'https://en.wikipedia.org/wiki/List_of_presidents_of_the_United_States'\n",
    "response = requests.get(url)\n",
    "if response.status_code == 200:\n",
    "    soup = BeautifulSoup(response.text, 'html.parser')\n",
    "    presidents_table = soup.find('table', {'class': 'wikitable'})\n",
    "\n",
    "    if presidents_table:\n",
    "        table_data = []\n",
    "        rows = presidents_table.find_all('tr')[1:] \n",
    "        for row in rows:\n",
    "            columns = row.find_all(['th', 'td'])\n",
    "            president_info = [column.text.strip() for column in columns]\n",
    "            table_data.append(president_info)\n",
    "        data = [{'Number': row[0], 'Name': row[1], 'Start date': row[2], 'End date': row[3]} for row in table_data]\n",
    "        with open('presidents.json', 'w') as json_file:\n",
    "            json.dump(data, json_file, indent=2)\n",
    "\n",
    "        print('Presidents data has been scraped and saved as presidents.json.')\n",
    "    else:\n",
    "        print('Presidents table not found on the page.')\n",
    "else:\n",
    "    print(f'Failed to retrieve data. Status code: {response.status_code}')\n"
   ]
  }
 ],
 "metadata": {
  "kernelspec": {
   "display_name": "Python 3",
   "language": "python",
   "name": "python3"
  },
  "language_info": {
   "codemirror_mode": {
    "name": "ipython",
    "version": 3
   },
   "file_extension": ".py",
   "mimetype": "text/x-python",
   "name": "python",
   "nbconvert_exporter": "python",
   "pygments_lexer": "ipython3",
   "version": "3.10.11"
  }
 },
 "nbformat": 4,
 "nbformat_minor": 2
}
