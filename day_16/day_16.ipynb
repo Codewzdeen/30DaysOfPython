{
 "cells": [
  {
   "cell_type": "markdown",
   "metadata": {},
   "source": [
    "# Exercises: Day 16"
   ]
  },
  {
   "cell_type": "markdown",
   "metadata": {},
   "source": [
    "#### Exercise 1"
   ]
  },
  {
   "cell_type": "code",
   "execution_count": 6,
   "metadata": {},
   "outputs": [
    {
     "name": "stdout",
     "output_type": "stream",
     "text": [
      "19/12/2023, 12:57\n",
      "timestamp 1703019458.412047\n"
     ]
    }
   ],
   "source": [
    "# Get the current day, month, year, hour, minute and timestamp from datetime module\n",
    "\n",
    "from datetime import datetime\n",
    "day = now.day                  \n",
    "month = now.month              \n",
    "year = now.year                 \n",
    "hour = now.hour                 \n",
    "minute = now.minute            \n",
    "timestamp = now.timestamp()\n",
    "print(f'{day}/{month}/{year}, {hour}:{minute}')\n",
    "print('timestamp', timestamp)"
   ]
  },
  {
   "cell_type": "markdown",
   "metadata": {},
   "source": [
    "#### Exercise 2"
   ]
  },
  {
   "cell_type": "code",
   "execution_count": 8,
   "metadata": {},
   "outputs": [
    {
     "name": "stdout",
     "output_type": "stream",
     "text": [
      "time one: 12/19/2023, 13:03:42\n"
     ]
    }
   ],
   "source": [
    "# Format the current date using this format: \"%m/%d/%Y, %H:%M:%S\")\n",
    "\n",
    "from datetime import datetime\n",
    "now = datetime.now()\n",
    "time_one = now.strftime(\"%m/%d/%Y, %H:%M:%S\")\n",
    "print(\"time one:\", time_one)\n"
   ]
  },
  {
   "cell_type": "markdown",
   "metadata": {},
   "source": [
    "#### Exercise 3"
   ]
  },
  {
   "cell_type": "code",
   "execution_count": 12,
   "metadata": {},
   "outputs": [
    {
     "name": "stdout",
     "output_type": "stream",
     "text": [
      "Time_string_to_time = 2019-12-05 00:00:00\n"
     ]
    }
   ],
   "source": [
    "# Today is 5 December, 2019. Change this time string to time.\n",
    "\n",
    "from datetime import datetime\n",
    "date_string = \"5 December, 2019\"\n",
    "Time_string_to_time = datetime.strptime(date_string, \"%d %B, %Y\")\n",
    "print(\"Time_string_to_time =\", Time_string_to_time)"
   ]
  },
  {
   "cell_type": "markdown",
   "metadata": {},
   "source": [
    "#### Exercise 4"
   ]
  },
  {
   "cell_type": "code",
   "execution_count": 13,
   "metadata": {},
   "outputs": [
    {
     "name": "stdout",
     "output_type": "stream",
     "text": [
      "Time difference until New Year: 12 days, 10:44:32.607310\n"
     ]
    }
   ],
   "source": [
    "# Calculate the time difference between now and new year.\n",
    "\n",
    "from datetime import datetime, timedelta\n",
    "now = datetime.now()\n",
    "new_year = datetime(now.year + 1, 1, 1, 0, 0, 0)\n",
    "time_difference = new_year - now\n",
    "print(\"Time difference until New Year:\", time_difference)\n",
    "\n"
   ]
  },
  {
   "cell_type": "markdown",
   "metadata": {},
   "source": [
    "#### Exercise 5"
   ]
  },
  {
   "cell_type": "code",
   "execution_count": 3,
   "metadata": {},
   "outputs": [
    {
     "name": "stdout",
     "output_type": "stream",
     "text": [
      "Time difference between January 1, 1970 and now is: 19710 days, 13:40:08.994938\n"
     ]
    }
   ],
   "source": [
    "# Calculate the time difference between 1 January 1970 and now.\n",
    "\n",
    "from datetime import datetime\n",
    "now = datetime.now()\n",
    "epoch = datetime(1970, 1, 1, 0, 0, 0)\n",
    "time_difference = now - epoch\n",
    "print(\"Time difference between January 1, 1970 and now is:\", time_difference)\n"
   ]
  },
  {
   "cell_type": "markdown",
   "metadata": {},
   "source": [
    "#### Exercise 6"
   ]
  },
  {
   "cell_type": "code",
   "execution_count": null,
   "metadata": {},
   "outputs": [],
   "source": [
    "# Think, what can you use the datetime module for?"
   ]
  },
  {
   "cell_type": "markdown",
   "metadata": {},
   "source": [
    "#### Time series analysis\n",
    "\n",
    "1. Perform calculations and manipulations on time-based data.\n",
    "2. Extract specific components of a date/time (year, month, day, hour, minute, second).\n",
    "3. Parse and format dates in different ways.\n",
    "4. Calculate time differences and intervals.\n"
   ]
  }
 ],
 "metadata": {
  "kernelspec": {
   "display_name": "Python 3",
   "language": "python",
   "name": "python3"
  },
  "language_info": {
   "codemirror_mode": {
    "name": "ipython",
    "version": 3
   },
   "file_extension": ".py",
   "mimetype": "text/x-python",
   "name": "python",
   "nbconvert_exporter": "python",
   "pygments_lexer": "ipython3",
   "version": "3.10.11"
  }
 },
 "nbformat": 4,
 "nbformat_minor": 2
}
