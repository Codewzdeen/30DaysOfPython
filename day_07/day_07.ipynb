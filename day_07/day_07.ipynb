{
 "cells": [
  {
   "cell_type": "markdown",
   "metadata": {},
   "source": [
    "# Exercises Day 7"
   ]
  },
  {
   "cell_type": "markdown",
   "metadata": {},
   "source": [
    "#### Exercises: Level 1"
   ]
  },
  {
   "cell_type": "markdown",
   "metadata": {},
   "source": [
    "#### Exercise 1\n"
   ]
  },
  {
   "cell_type": "code",
   "execution_count": 1,
   "metadata": {},
   "outputs": [
    {
     "name": "stdout",
     "output_type": "stream",
     "text": [
      "7\n"
     ]
    }
   ],
   "source": [
    "# Find the length of the set it_companies\n",
    "\n",
    "it_companies = {'Facebook', 'Google', 'Microsoft', 'Apple', 'IBM', 'Oracle', 'Amazon'}\n",
    "print(len(it_companies))"
   ]
  },
  {
   "cell_type": "markdown",
   "metadata": {},
   "source": [
    "#### Exercise 2"
   ]
  },
  {
   "cell_type": "code",
   "execution_count": 2,
   "metadata": {},
   "outputs": [
    {
     "name": "stdout",
     "output_type": "stream",
     "text": [
      "{'Twitter', 'IBM', 'Apple', 'Google', 'Microsoft', 'Amazon', 'Oracle', 'Facebook'}\n"
     ]
    }
   ],
   "source": [
    "# Add 'Twitter' to it_companies\n",
    "\n",
    "it_companies = {'Facebook', 'Google', 'Microsoft', 'Apple', 'IBM', 'Oracle', 'Amazon'}\n",
    "it_companies.add('Twitter')\n",
    "print(it_companies)"
   ]
  },
  {
   "cell_type": "markdown",
   "metadata": {},
   "source": [
    "#### Exercise 3"
   ]
  },
  {
   "cell_type": "code",
   "execution_count": 3,
   "metadata": {},
   "outputs": [
    {
     "name": "stdout",
     "output_type": "stream",
     "text": [
      "{'Apple', 'Oracle', 'Amazon', 'Itel', 'Google', 'Facebook', 'Twitter', 'IBM', 'Techno', 'Microsoft'}\n"
     ]
    }
   ],
   "source": [
    "# Insert multiple IT companies at once to the set it_companies\n",
    "\n",
    "it_companies.update(['Techno','Itel'])\n",
    "print(it_companies)"
   ]
  },
  {
   "cell_type": "markdown",
   "metadata": {},
   "source": [
    "#### Exercise 4"
   ]
  },
  {
   "cell_type": "code",
   "execution_count": 5,
   "metadata": {},
   "outputs": [
    {
     "name": "stdout",
     "output_type": "stream",
     "text": [
      "{'Oracle', 'Itel', 'Google', 'Facebook', 'Twitter', 'IBM', 'Techno', 'Microsoft'}\n"
     ]
    }
   ],
   "source": [
    "# Remove one of the companies from the set it_companies\n",
    "\n",
    "it_companies.pop()\n",
    "print(it_companies)\n"
   ]
  },
  {
   "cell_type": "markdown",
   "metadata": {},
   "source": [
    "#### Exercise 5"
   ]
  },
  {
   "cell_type": "code",
   "execution_count": null,
   "metadata": {},
   "outputs": [],
   "source": [
    "# What is the difference between remove and discard\n",
    "\n",
    "# Both remove an element from a set but while remove raises a key error if the element is not found in the set, discard does nothing."
   ]
  },
  {
   "cell_type": "markdown",
   "metadata": {},
   "source": [
    "#### Exercises: Level 2"
   ]
  },
  {
   "cell_type": "markdown",
   "metadata": {},
   "source": [
    "#### Exercise 1"
   ]
  },
  {
   "cell_type": "code",
   "execution_count": 12,
   "metadata": {},
   "outputs": [
    {
     "name": "stdout",
     "output_type": "stream",
     "text": [
      "{14, 15, 19, 20, 21, 24, 25, 26}\n"
     ]
    }
   ],
   "source": [
    "# Join A and B\n",
    "\n",
    "join_A  = {15, 19, 24, 14, 20, 21}\n",
    "join_B  = {15, 19, 14, 20, 21, 24, 25, 26}\n",
    "union = join_A.union(join_B)\n",
    "print(union)\n"
   ]
  },
  {
   "cell_type": "markdown",
   "metadata": {},
   "source": [
    "#### Exercise 2\n",
    "\n"
   ]
  },
  {
   "cell_type": "code",
   "execution_count": 13,
   "metadata": {},
   "outputs": [
    {
     "data": {
      "text/plain": [
       "{14, 15, 19, 20, 21, 24}"
      ]
     },
     "execution_count": 13,
     "metadata": {},
     "output_type": "execute_result"
    }
   ],
   "source": [
    "# Find A intersection B\n",
    "\n",
    "join_A.intersection(join_B)\n"
   ]
  },
  {
   "cell_type": "markdown",
   "metadata": {},
   "source": [
    "#### Exercise 3\n"
   ]
  },
  {
   "cell_type": "code",
   "execution_count": 15,
   "metadata": {},
   "outputs": [
    {
     "data": {
      "text/plain": [
       "True"
      ]
     },
     "execution_count": 15,
     "metadata": {},
     "output_type": "execute_result"
    }
   ],
   "source": [
    "# Is A subset of B\n",
    "\n",
    "join_A.issubset(join_B)\n"
   ]
  },
  {
   "cell_type": "markdown",
   "metadata": {},
   "source": [
    "#### Exercise 4"
   ]
  },
  {
   "cell_type": "code",
   "execution_count": 18,
   "metadata": {},
   "outputs": [
    {
     "data": {
      "text/plain": [
       "False"
      ]
     },
     "execution_count": 18,
     "metadata": {},
     "output_type": "execute_result"
    }
   ],
   "source": [
    "# Are A and B disjoint sets\n",
    "\n",
    "join_A.isdisjoint(join_B)"
   ]
  },
  {
   "cell_type": "markdown",
   "metadata": {},
   "source": [
    "#### Exercise 5"
   ]
  },
  {
   "cell_type": "code",
   "execution_count": 21,
   "metadata": {},
   "outputs": [
    {
     "name": "stdout",
     "output_type": "stream",
     "text": [
      "{14, 15, 19, 20, 21, 24, 25, 26}\n",
      "{14, 15, 19, 20, 21, 24, 25, 26}\n"
     ]
    }
   ],
   "source": [
    "# Join A with B and B with A\n",
    "\n",
    "union = join_A.union(join_B)\n",
    "print(union)\n",
    "X = join_B.union(join_A)\n",
    "print(X)"
   ]
  },
  {
   "cell_type": "markdown",
   "metadata": {},
   "source": [
    "#### Exercise 6"
   ]
  },
  {
   "cell_type": "code",
   "execution_count": 22,
   "metadata": {},
   "outputs": [
    {
     "data": {
      "text/plain": [
       "{25, 26}"
      ]
     },
     "execution_count": 22,
     "metadata": {},
     "output_type": "execute_result"
    }
   ],
   "source": [
    "# What is the symmetric difference between A and B\n",
    "\n",
    "join_A.symmetric_difference(join_B)"
   ]
  },
  {
   "cell_type": "markdown",
   "metadata": {},
   "source": [
    "#### Exercise 7"
   ]
  },
  {
   "cell_type": "code",
   "execution_count": 23,
   "metadata": {},
   "outputs": [],
   "source": [
    "# Delete the sets completely\n",
    "\n",
    "del join_A\n",
    "\n",
    "del join_B"
   ]
  },
  {
   "cell_type": "markdown",
   "metadata": {},
   "source": [
    "#### Exercises: Level 3"
   ]
  },
  {
   "cell_type": "markdown",
   "metadata": {},
   "source": [
    "#### Exercise 1"
   ]
  },
  {
   "cell_type": "code",
   "execution_count": 24,
   "metadata": {},
   "outputs": [
    {
     "name": "stdout",
     "output_type": "stream",
     "text": [
      "{19, 22, 24, 25, 26}\n",
      "Length of the list: 8\n",
      "Length of the set: 5\n",
      "List is bigger\n"
     ]
    }
   ],
   "source": [
    "# Convert the ages to a set and compare the length of the list and the set, which one is bigger?\n",
    "\n",
    "age = [22, 19, 24, 25, 26, 24, 25, 24]\n",
    "to_set = set(age)\n",
    "print(to_set)\n",
    "print('Length of the list:', len(age))\n",
    "print('Length of the set:', len(to_set))\n",
    "print('List is bigger')"
   ]
  },
  {
   "cell_type": "markdown",
   "metadata": {},
   "source": [
    "#### Exercise 2"
   ]
  },
  {
   "cell_type": "code",
   "execution_count": null,
   "metadata": {},
   "outputs": [],
   "source": [
    "# Explain the difference between the following data types: string, list, tuple and set\n",
    "\n"
   ]
  },
  {
   "cell_type": "markdown",
   "metadata": {},
   "source": [
    "#### Exercise 3"
   ]
  },
  {
   "cell_type": "markdown",
   "metadata": {},
   "source": [
    "\"\"\" I am a teacher and I love to inspire and teach people. How many unique words have been used in the sentence? Use the split methods and set to get the unique words.\"\"\""
   ]
  },
  {
   "cell_type": "code",
   "execution_count": 25,
   "metadata": {},
   "outputs": [
    {
     "name": "stdout",
     "output_type": "stream",
     "text": [
      "Unique words in the sentence: {'love', 'inspire', 'and', 'am', 'teach', 'I', 'to', 'people', 'a', 'teacher'}\n"
     ]
    }
   ],
   "source": [
    "sentence = 'I am a teacher and I love to inspire and teach people'\n",
    "\n",
    "unique_words = set(sentence.split())\n",
    "print('Unique words in the sentence:', unique_words)"
   ]
  }
 ],
 "metadata": {
  "kernelspec": {
   "display_name": "Python 3",
   "language": "python",
   "name": "python3"
  },
  "language_info": {
   "codemirror_mode": {
    "name": "ipython",
    "version": 3
   },
   "file_extension": ".py",
   "mimetype": "text/x-python",
   "name": "python",
   "nbconvert_exporter": "python",
   "pygments_lexer": "ipython3",
   "version": "3.10.11"
  }
 },
 "nbformat": 4,
 "nbformat_minor": 2
}
