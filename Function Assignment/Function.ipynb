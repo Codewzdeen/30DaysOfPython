{
 "cells": [
  {
   "cell_type": "markdown",
   "metadata": {},
   "source": [
    "### Exercise 8-1"
   ]
  },
  {
   "cell_type": "markdown",
   "metadata": {},
   "source": [
    "\"\"\" Write a function called display_message() that prints one sentence telling everyone what you are learning about in this chapter. Call the function, and make sure the message displays correctly.\"\"\"\n"
   ]
  },
  {
   "cell_type": "code",
   "execution_count": 1,
   "metadata": {},
   "outputs": [
    {
     "name": "stdout",
     "output_type": "stream",
     "text": [
      "I learned how to pass information to a function, arguments and parameters\n"
     ]
    }
   ],
   "source": [
    "def display_message():\n",
    "    print(\"I learned how to pass information to a function, arguments and parameters\")\n",
    "display_message()"
   ]
  },
  {
   "cell_type": "markdown",
   "metadata": {},
   "source": [
    "### Exercise 8-2\n",
    "\n"
   ]
  },
  {
   "cell_type": "markdown",
   "metadata": {},
   "source": [
    "\"\"\" Write a function called favorite_book() that accepts one parameter, title. The function should print a message, such as One of my favorite books is Alice in Wonderland. Call the function, making sure to include a book title as an argumet in the function call. \"\"\"\n"
   ]
  },
  {
   "cell_type": "code",
   "execution_count": 2,
   "metadata": {},
   "outputs": [
    {
     "name": "stdout",
     "output_type": "stream",
     "text": [
      "one of my favorite book is Alice In Wonderland.\n"
     ]
    }
   ],
   "source": [
    "def favorite_book(book):\n",
    "    print(f\"one of my favorite book is {book.title ()}\")\n",
    "favorite_book(\"Alice in Wonderland.\")"
   ]
  },
  {
   "cell_type": "markdown",
   "metadata": {},
   "source": [
    "### Exercise 8-3\n",
    "\n",
    "\n"
   ]
  },
  {
   "cell_type": "markdown",
   "metadata": {},
   "source": [
    "\"\"\" Write a function called make_shirt() that accepts a size and the text of a message that should be printed on the shirt. The function should print a sentence summarizing the size of the shirt and the message printed on it. Call the function once using positional arguments to make a shirt. Call the function a second time using keyword arguments.\"\"\"\n"
   ]
  },
  {
   "cell_type": "code",
   "execution_count": 3,
   "metadata": {},
   "outputs": [
    {
     "name": "stdout",
     "output_type": "stream",
     "text": [
      "Shirt size: Large, message: 'I love python'\n",
      "Shirt size: Medium, message: 'I love python'\n"
     ]
    }
   ],
   "source": [
    "def make_shirt(size, message):\n",
    "    print(f\"Shirt size: {size}, message: '{message}'\")\n",
    "\n",
    "make_shirt(\"Large\", \"I love python\")\n",
    "make_shirt(\"Medium\", \"I love python\")"
   ]
  },
  {
   "cell_type": "markdown",
   "metadata": {},
   "source": [
    "### Exercise 8-4\n",
    "\n",
    "\n"
   ]
  },
  {
   "cell_type": "markdown",
   "metadata": {},
   "source": [
    "\"\"\" Modify the make_shirt() function so that shirts are large by default with a message that reads I love Python. Make a large shirt and a medium shirt with the default message, and a shirt of any size with a different message.\"\"\"\n"
   ]
  },
  {
   "cell_type": "code",
   "execution_count": 4,
   "metadata": {},
   "outputs": [
    {
     "name": "stdout",
     "output_type": "stream",
     "text": [
      "Shirt size Large message: 'I love Python'\n",
      "Shirt size Medium message: 'I love Python'\n",
      "Shirt size Small message: 'Python is awesome!'\n"
     ]
    }
   ],
   "source": [
    "def make_shirt(size=\"Large\", message=\"I love Python\"):\n",
    "    print(f\"Shirt size {size} message: '{message}'\")\n",
    "make_shirt()\n",
    "make_shirt(size=\"Medium\")\n",
    "make_shirt(size=\"Small\", message=\"Python is awesome!\")"
   ]
  },
  {
   "cell_type": "markdown",
   "metadata": {},
   "source": [
    "### Exercise 8-5\n",
    "\n",
    "\n",
    "\n"
   ]
  },
  {
   "cell_type": "markdown",
   "metadata": {},
   "source": [
    "\"\"\" Write a function called describe_city() that accepts the name of a city and its country. The function should print a simple sentence, such as Reykjavik is in Iceland. Give the parameter for the country a default value. Call your function for three different cities, at least one of which is not in the default country.\"\"\""
   ]
  },
  {
   "cell_type": "code",
   "execution_count": 5,
   "metadata": {},
   "outputs": [
    {
     "name": "stdout",
     "output_type": "stream",
     "text": [
      "Reykjavik is in Iceland.\n",
      "Kano is in Nigeria.\n",
      "Accra is in Ghana.\n"
     ]
    }
   ],
   "source": [
    "def describe_city(city, country='Default Country'):\n",
    "   \n",
    "    print(f\"{city} is in {country}.\")\n",
    "describe_city(\"Reykjavik\", \"Iceland\")\n",
    "describe_city(\"Kano\", \"Nigeria\")\n",
    "describe_city(\"Accra\", \"Ghana\")"
   ]
  },
  {
   "cell_type": "markdown",
   "metadata": {},
   "source": [
    "### Exercise 8-6\n",
    "\n",
    "\n",
    "\n"
   ]
  },
  {
   "cell_type": "markdown",
   "metadata": {},
   "source": [
    "\"\"\" Write a function called city_country() that takes in the name of a city and its country. The function should return a string formatted like this: \"Santiago, Chile\" Call your function with at least three city-country pairs, and print the values that are returned.\"\"\""
   ]
  },
  {
   "cell_type": "code",
   "execution_count": 6,
   "metadata": {},
   "outputs": [
    {
     "name": "stdout",
     "output_type": "stream",
     "text": [
      "Santiago, Chile\n",
      "Tokyo, Japan\n",
      "Paris, France\n"
     ]
    }
   ],
   "source": [
    "def city_country(city, country):\n",
    "    return f\"{city}, {country}\"\n",
    "\n",
    "Location1 = city_country(\"Santiago\", \"Chile\")\n",
    "Location2 = city_country(\"Tokyo\", \"Japan\")\n",
    "Location3 = city_country(\"Paris\", \"France\")\n",
    "\n",
    "print(Location1)\n",
    "print(Location2)\n",
    "print(Location3)\n"
   ]
  },
  {
   "cell_type": "markdown",
   "metadata": {},
   "source": [
    "### Exercise 8-7\n",
    "\n",
    "\n",
    "\n"
   ]
  },
  {
   "cell_type": "markdown",
   "metadata": {},
   "source": [
    "\"\"\" Write a function called make_album() that builds a dictionary describing a music album. The function should take in an artist name and an album title, and it should return a dictionary containing these two pieces of information. Use the function to make three dictionaries representing different albums. Print each return value to show that the dictionaries are storing the album information correctly. Use None to add an optional parameter to make_album() that allows you to store the number of songs on an album. If the calling line includes a value for the number of songs, add that value to the album’s dictionary. Make at least one new function call that includes the number of songs on an album.\"\"\""
   ]
  },
  {
   "cell_type": "code",
   "execution_count": 7,
   "metadata": {},
   "outputs": [
    {
     "name": "stdout",
     "output_type": "stream",
     "text": [
      "{'artist': 'Drake', 'title': '30', 'songs': 16}\n",
      "{'artist': 'Adale', 'title': 'Hello', 'songs': 12}\n",
      "{'artist': 'Eminem', 'title': '250'}\n",
      "{'artist': 'Wiskid', 'title': 11}\n"
     ]
    }
   ],
   "source": [
    "def make_album(artist_name, song_title, songs=None):\n",
    "    album = {'artist': artist_name, 'title': song_title}\n",
    "    if songs is not None:\n",
    "        album['songs'] = songs\n",
    "    return album\n",
    "\n",
    "album1 = make_album(\"Drake\", \"30\" ,16)\n",
    "album2 = make_album(\"Adale\", \"Hello\", 12)  \n",
    "album3 = make_album(\"Eminem\", \"250\")\n",
    "\n",
    "\n",
    "print(album1)\n",
    "print(album2)\n",
    "print(album3)\n",
    "\n",
    "album4 = make_album(\"Wiskid\", 11)\n",
    "print(album4)\n"
   ]
  },
  {
   "cell_type": "markdown",
   "metadata": {},
   "source": [
    "### Exercise 8-8\n",
    "\n",
    "\n",
    "\n",
    "    \n"
   ]
  },
  {
   "cell_type": "markdown",
   "metadata": {},
   "source": [
    "\"\"\" Start with your program from Exercise 8-7. Write a while loop that allows users to enter an album’s artist and title. Once you have that information, call make_album() with the user’s input and print the dictionary that’s created. Be sure to include a quit value in the while loop.\"\"\"\n"
   ]
  },
  {
   "cell_type": "code",
   "execution_count": null,
   "metadata": {},
   "outputs": [],
   "source": [
    "def make_album(artist_name, song_title, songs=None):\n",
    "    album = {'artist': artist_name, 'title': song_title}\n",
    "    if songs is not None:\n",
    "        album['songs'] = songs\n",
    "    return album\n",
    "\n",
    "albums = []\n",
    "\n",
    "while True:\n",
    "    artist_input = input(\"Enter the artist (or 'quit' to exit): \")\n",
    "\n",
    "    if artist_input.lower() == 'quit':\n",
    "        break\n",
    "\n",
    "    title_input = input(\"Enter the album title: \")\n",
    "    songs_input = input(\"Enter the number of songs (or press Enter to skip): \")\n",
    "\n",
    "    if songs_input:\n",
    "        songs_input = int(songs_input)\n",
    "\n",
    "    user_album = make_album(artist_input, title_input, songs_input)\n",
    "    albums.append(user_album)\n",
    "    \n",
    "    for album in albums:\n",
    "        print(album)\n",
    "        \n"
   ]
  },
  {
   "cell_type": "markdown",
   "metadata": {},
   "source": [
    "### Exercise 8-9\n",
    "\n",
    "\n",
    "\n"
   ]
  },
  {
   "cell_type": "markdown",
   "metadata": {},
   "source": [
    "\"\"\" Make a list containing a series of short text messages. Pass the list to a function called show_messages(), which prints each text message.\"\"\""
   ]
  },
  {
   "cell_type": "code",
   "execution_count": 8,
   "metadata": {},
   "outputs": [
    {
     "name": "stdout",
     "output_type": "stream",
     "text": [
      "Hello! How are you?\n",
      "Don't forget to bring my book.\n",
      "What's your favorite book?\n"
     ]
    }
   ],
   "source": [
    "def show_messages(messages):\n",
    "    for message in messages:\n",
    "        print(message)\n",
    "\n",
    "\n",
    "text_messages = [\n",
    "    \"Hello! How are you?\",\n",
    "    \"Don't forget to bring my book.\",\n",
    "     \"What's your favorite book?\",\n",
    "]\n",
    "\n",
    "show_messages(text_messages)\n"
   ]
  },
  {
   "cell_type": "markdown",
   "metadata": {},
   "source": [
    "### Exercise 8-10\n",
    "\n",
    "\n"
   ]
  },
  {
   "cell_type": "markdown",
   "metadata": {},
   "source": [
    "\"\"\" Start with a copy of your program from Exercise 8-9. Write a function called send_messages() that prints each text message and moves each message to a new list called sent_messages as it’s printed. After calling the function, print both of your lists to make sure the messages were moved correctly.\"\"\"\n"
   ]
  },
  {
   "cell_type": "code",
   "execution_count": 9,
   "metadata": {},
   "outputs": [
    {
     "name": "stdout",
     "output_type": "stream",
     "text": [
      "Sending message: Hello! How are you?\n",
      "Sending message: Don't forget to bring my book.\n",
      "Sending message: What's your favorite book?\n",
      "Original messages:\n",
      "\n",
      "Sent messages:\n",
      "Hello! How are you?\n",
      "Don't forget to bring my book.\n",
      "What's your favorite book?\n",
      "Original messages: []\n",
      "Sent messages: ['Hello! How are you?', \"Don't forget to bring my book.\", \"What's your favorite book?\"]\n"
     ]
    }
   ],
   "source": [
    "def send_messages(messages, sent_messages):\n",
    "    while messages:\n",
    "        current_message = messages.pop(0)\n",
    "        print(f\"Sending message: {current_message}\")\n",
    "        sent_messages.append(current_message)\n",
    "\n",
    "def show_messages(messages):\n",
    "    for message in messages:\n",
    "        print(message)\n",
    "\n",
    "\n",
    "text_messages = [\n",
    "    \"Hello! How are you?\",\n",
    "    \"Don't forget to bring my book.\",\n",
    "    \"What's your favorite book?\",\n",
    "]\n",
    "\n",
    "\n",
    "sent_messages = []\n",
    "send_messages(text_messages, sent_messages)\n",
    "print(\"Original messages:\")\n",
    "show_messages(text_messages)\n",
    "\n",
    "print(\"\\nSent messages:\")\n",
    "show_messages(sent_messages)\n",
    "\n",
    "print(\"Original messages:\", text_messages)\n",
    "print(\"Sent messages:\", sent_messages)\n"
   ]
  },
  {
   "cell_type": "markdown",
   "metadata": {},
   "source": [
    "### Exercise 8-11\n",
    "\n",
    "\n",
    "\n"
   ]
  },
  {
   "cell_type": "markdown",
   "metadata": {},
   "source": [
    "\"\"\" Start with your work from Exercise 8-10. Call the function send_messages() with a copy of the list of messages. After calling the function, print both of your lists to show that the original list has retained its messages.\"\"\""
   ]
  },
  {
   "cell_type": "code",
   "execution_count": 10,
   "metadata": {},
   "outputs": [
    {
     "name": "stdout",
     "output_type": "stream",
     "text": [
      "Sending message: Hello! How are you?\n",
      "Sending message: Don't forget to bring my book.\n",
      "Sending message: What's your favorite book?\n",
      "Original messages: []\n",
      "Sent messages: ['Hello! How are you?', \"Don't forget to bring my book.\", \"What's your favorite book?\"]\n"
     ]
    }
   ],
   "source": [
    "def send_messages(messages, sent_messages):\n",
    "    while messages:\n",
    "        current_message = messages.pop(0)\n",
    "        print(f\"Sending message: {current_message}\")\n",
    "        sent_messages.append(current_message)\n",
    "\n",
    "def show_messages(messages):\n",
    "    for message in messages:\n",
    "        print(message)\n",
    "\n",
    "\n",
    "text_messages = [\n",
    "    \"Hello! How are you?\",\n",
    "    \"Don't forget to bring my book.\",\n",
    "    \"What's your favorite book?\",\n",
    "]\n",
    "\n",
    "\n",
    "sent_messages = []\n",
    "\n",
    "send_messages(text_messages, sent_messages)\n",
    "\n",
    "print(\"Original messages:\", text_messages)\n",
    "print(\"Sent messages:\", sent_messages)"
   ]
  },
  {
   "cell_type": "markdown",
   "metadata": {},
   "source": [
    "### Exercise 8-12\n",
    "\n",
    "\n",
    "\n",
    "\n"
   ]
  },
  {
   "cell_type": "markdown",
   "metadata": {},
   "source": [
    "\"\"\" Write a function that accepts a list of items a person wants on a sandwich. The function should have one parameter that collects as many items as the function call provides, and it should print a summary of the sandwich that’s being ordered. Call the function three times, using a different number of arguments each time.\"\"\""
   ]
  },
  {
   "cell_type": "code",
   "execution_count": 11,
   "metadata": {},
   "outputs": [
    {
     "name": "stdout",
     "output_type": "stream",
     "text": [
      "Making a sandwich with the following items:\n",
      "- Turkey\n",
      "- Cheese\n",
      "- Lettuce\n",
      "Enjoy your sandwich!\n",
      "\n",
      "Making a sandwich with the following items:\n",
      "- Hams\n",
      "- Swiss\n",
      "Enjoy your sandwich!\n",
      "\n",
      "Making a sandwich with the following items:\n",
      "- Peanut Butter\n",
      "- Jelly\n",
      "- Banana\n",
      "- Honey\n",
      "Enjoy your sandwich!\n",
      "\n"
     ]
    }
   ],
   "source": [
    "def make_sandwich(*items):\n",
    "    \"\"\"Prints a summary of the sandwich being ordered.\"\"\"\n",
    "    print(\"Making a sandwich with the following items:\")\n",
    "    for item in items:\n",
    "        print(f\"- {item}\")\n",
    "    print(\"Enjoy your sandwich!\\n\")\n",
    "\n",
    "\n",
    "make_sandwich(\"Turkey\", \"Cheese\", \"Lettuce\")\n",
    "make_sandwich(\"Hams\", \"Swiss\")\n",
    "make_sandwich(\"Peanut Butter\", \"Jelly\", \"Banana\", \"Honey\")\n"
   ]
  },
  {
   "cell_type": "markdown",
   "metadata": {},
   "source": [
    "### Exercise 8-13\n",
    "\n",
    "\n",
    "\n"
   ]
  },
  {
   "cell_type": "markdown",
   "metadata": {},
   "source": [
    "\"\"\" Start with a copy of user_profile.py from page 149. Build a profile of yourself by calling build_profile(), using your first and last names and three other key-value pairs that describe you.\"\"\""
   ]
  },
  {
   "cell_type": "code",
   "execution_count": 12,
   "metadata": {},
   "outputs": [
    {
     "name": "stdout",
     "output_type": "stream",
     "text": [
      "{'first_name': 'Zaharaddeen', 'last_name': 'Nura', 'age': 30, 'occupation': 'Data Sciencetist', 'hobbies': ['Reading', 'Coding', 'Traveling']}\n"
     ]
    }
   ],
   "source": [
    "def build_profile(first_name, last_name, **additional_info):\n",
    "    \"\"\"Builds a user profile with first name, last name, and additional information.\"\"\"\n",
    "    profile = {'first_name': first_name, 'last_name': last_name}\n",
    "    profile.update(additional_info)\n",
    "    return profile\n",
    "\n",
    "my_profile = build_profile(\n",
    "    first_name=\"Zaharaddeen\",\n",
    "    last_name=\"Nura\",\n",
    "    age=30,\n",
    "    occupation=\"Data Sciencetist\",\n",
    "    hobbies=[\"Reading\", \"Coding\", \"Traveling\"]\n",
    ")\n",
    "\n",
    "print(my_profile)"
   ]
  },
  {
   "cell_type": "markdown",
   "metadata": {},
   "source": [
    "### Exercise 8-14\n",
    "\n",
    "\n",
    "\n",
    "\n"
   ]
  },
  {
   "cell_type": "markdown",
   "metadata": {},
   "source": [
    "\"\"\" Write a function that stores information about a car in a dictionary. The function should always receive a manufacturer and a model name. It should then accept an arbitrary number of keyword arguments. Call the function with the required information and two other name-value pairs, such as a color or an optional feature. Your function should work for a call like this one:\"\"\""
   ]
  },
  {
   "cell_type": "code",
   "execution_count": 13,
   "metadata": {},
   "outputs": [
    {
     "name": "stdout",
     "output_type": "stream",
     "text": [
      "{'manufacturer': 'subaru', 'model': 'outback', 'color': 'blue', 'tow_package': True}\n"
     ]
    }
   ],
   "source": [
    "def make_car(manufacturer, model, **car_info):\n",
    "    \n",
    "    car = {'manufacturer': manufacturer, 'model': model}\n",
    "    car.update(car_info)\n",
    "    return car\n",
    "\n",
    "car = make_car('subaru', 'outback', color='blue', tow_package=True)\n",
    "print(car)\n"
   ]
  },
  {
   "cell_type": "markdown",
   "metadata": {},
   "source": [
    "### Exercise 8-15\n",
    "\n"
   ]
  },
  {
   "cell_type": "markdown",
   "metadata": {},
   "source": [
    "\"\"\" Put the functions for the example printing_models.py in a separate file called printing_functions.py. Write an import statement at the top of printing_models.py, and modify the file to use the imported functions.\n",
    "\"\"\"\n"
   ]
  },
  {
   "cell_type": "code",
   "execution_count": null,
   "metadata": {},
   "outputs": [],
   "source": [
    "import printing_functions\n",
    "\n",
    "unprinted_designs = ['iphone case', 'robot pendant', 'dodecahedron']\n",
    "completed_models = []\n",
    "\n",
    "printing_functions.print_models(unprinted_designs, completed_models)\n",
    "printing_functions.show_completed_models(completed_models)"
   ]
  },
  {
   "cell_type": "markdown",
   "metadata": {},
   "source": [
    "### Exercise 8-16\n",
    "\n",
    "\n"
   ]
  },
  {
   "cell_type": "markdown",
   "metadata": {},
   "source": [
    "\"\"\" Using a program you wrote that has one function in it, store that function in a separate file. Import the function into your main program file, and call the function using each of these approaches:\"\"\""
   ]
  },
  {
   "cell_type": "code",
   "execution_count": null,
   "metadata": {},
   "outputs": [],
   "source": [
    "\n",
    "import my_program\n",
    "my_program.my_function()\n",
    "\n",
    "from my_program import my_function\n",
    "my_function()\n",
    "\n",
    "from my_program import my_function as fn\n",
    "fn()\n",
    "\n",
    "import my_program as mn\n",
    "mn.my_function()\n",
    "from my_program import *\n",
    "\n",
    "my_function()\n"
   ]
  },
  {
   "cell_type": "markdown",
   "metadata": {},
   "source": [
    "### Exercise 8-17\n",
    "\n",
    "\n"
   ]
  },
  {
   "cell_type": "markdown",
   "metadata": {},
   "source": [
    "\"\"\" Choose any three programs you wrote for this chapter, and make sure they follow the styling guidelines described in this section.\"\"\"\n"
   ]
  },
  {
   "cell_type": "code",
   "execution_count": null,
   "metadata": {},
   "outputs": [],
   "source": [
    "def make_album(artist, title, songs=None):\n",
    "    \"\"\"Builds a dictionary describing a music album.\"\"\"\n",
    "    album = {'artist': artist, 'title': title}\n",
    "    if songs is not None:\n",
    "        album['songs'] = songs\n",
    "    return album\n",
    "\n",
    "def describe_album(album):\n",
    "    \"\"\"Prints information about a music album.\"\"\"\n",
    "    print(f\"Album: {album['title']} by {album['artist']}\")\n",
    "    if 'songs' in album:\n",
    "        print(f\"Number of Songs: {album['songs']}\")\n"
   ]
  }
 ],
 "metadata": {
  "kernelspec": {
   "display_name": "Python 3",
   "language": "python",
   "name": "python3"
  },
  "language_info": {
   "codemirror_mode": {
    "name": "ipython",
    "version": 3
   },
   "file_extension": ".py",
   "mimetype": "text/x-python",
   "name": "python",
   "nbconvert_exporter": "python",
   "pygments_lexer": "ipython3",
   "version": "3.10.11"
  }
 },
 "nbformat": 4,
 "nbformat_minor": 2
}
