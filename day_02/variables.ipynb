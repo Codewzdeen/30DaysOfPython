{
 "cells": [
  {
   "cell_type": "markdown",
   "metadata": {},
   "source": [
    "# Exercises - Day 2"
   ]
  },
  {
   "cell_type": "markdown",
   "metadata": {},
   "source": [
    "#### Exercises: Level 1"
   ]
  },
  {
   "cell_type": "markdown",
   "metadata": {},
   "source": [
    "#### Exercise 1"
   ]
  },
  {
   "cell_type": "markdown",
   "metadata": {},
   "source": [
    "#### Day 2: 30 Days of python programming"
   ]
  },
  {
   "cell_type": "code",
   "execution_count": 12,
   "metadata": {},
   "outputs": [],
   "source": [
    "\n",
    "first_name = \"Zaharaddeen\"\n",
    "last_name = \"Nura Ibrahim\"\n",
    "country = \"Nigeria\"\n",
    "city = \"Kano\"\n",
    "age = 30\n",
    "year = 2023\n",
    "is_married = False\n",
    "is_true = True\n",
    "is_light_on = True\n",
    "first_name, last_name, country, city, age, is_married, is_true, is_light_on = \"Zaharaddeen\", \"Nura Ibrahim\", \"Nigeria\", \"Kano\", 30, False, True, True\n"
   ]
  },
  {
   "cell_type": "code",
   "execution_count": 13,
   "metadata": {},
   "outputs": [
    {
     "name": "stdout",
     "output_type": "stream",
     "text": [
      "first_name:  Zaharaddeen\n",
      "last_name:  Nura Ibrahim\n",
      "country:  Nigeria\n",
      "city:  Kano\n",
      "age:  30\n",
      "year:  2023\n",
      "is_married:  False\n",
      "is_true:  True\n",
      "is_light_on:  True\n",
      "first_name,last_name,country,city,age,is_married, is_true,is_light_on:  Zaharaddeen Nura Ibrahim Nigeria Kano 30 False True True\n"
     ]
    }
   ],
   "source": [
    "print(\"first_name: \", first_name)\n",
    "print(\"last_name: \", last_name)\n",
    "print(\"country: \", country)\n",
    "print(\"city: \", city)\n",
    "print(\"age: \", age)\n",
    "print(\"year: \",year)\n",
    "print(\"is_married: \", is_married)\n",
    "print(\"is_true: \" ,is_true)\n",
    "print(\"is_light_on: \" ,is_light_on)\n",
    "print(\"first_name,last_name,country,city,age,is_married, is_true,is_light_on: \" ,first_name,last_name,country,city,age,is_married, is_true,is_light_on)\n"
   ]
  },
  {
   "cell_type": "markdown",
   "metadata": {},
   "source": [
    "#### Exercises 2"
   ]
  },
  {
   "cell_type": "markdown",
   "metadata": {},
   "source": [
    "#### 1. Check the data type of all your variables using type() built-in function"
   ]
  },
  {
   "cell_type": "code",
   "execution_count": 22,
   "metadata": {},
   "outputs": [
    {
     "name": "stdout",
     "output_type": "stream",
     "text": [
      "<class 'str'>\n",
      "<class 'str'>\n",
      "<class 'str'>\n",
      "<class 'str'>\n",
      "<class 'int'>\n",
      "<class 'int'>\n",
      "<class 'bool'>\n",
      "<class 'bool'>\n",
      "<class 'bool'>\n"
     ]
    }
   ],
   "source": [
    "print(type(first_name))\n",
    "print(type(last_name))\n",
    "print(type(country))\n",
    "print(type(city))\n",
    "print(type(age))\n",
    "print(type(year))\n",
    "print(type(is_married))\n",
    "print(type(is_true))\n",
    "print(type(is_light_on))"
   ]
  },
  {
   "cell_type": "markdown",
   "metadata": {},
   "source": [
    "#### 2. Using the len() built-in function, find the length of your first name"
   ]
  },
  {
   "cell_type": "code",
   "execution_count": 25,
   "metadata": {},
   "outputs": [
    {
     "name": "stdout",
     "output_type": "stream",
     "text": [
      "11\n"
     ]
    }
   ],
   "source": [
    "print(len(\"Zaharaddeen\"))"
   ]
  },
  {
   "cell_type": "markdown",
   "metadata": {},
   "source": [
    "#### 3. Compare the length of your first name and your last name"
   ]
  },
  {
   "cell_type": "code",
   "execution_count": 27,
   "metadata": {},
   "outputs": [
    {
     "name": "stdout",
     "output_type": "stream",
     "text": [
      "10\n",
      "12\n"
     ]
    }
   ],
   "source": [
    "print(len(\"zaharadden\"))\n",
    "print(len(\"Nura Ibrahim\"))"
   ]
  },
  {
   "cell_type": "markdown",
   "metadata": {},
   "source": [
    "#### 4. Declare 5 as num_one and 4 as num_two"
   ]
  },
  {
   "cell_type": "code",
   "execution_count": 1,
   "metadata": {},
   "outputs": [
    {
     "name": "stdout",
     "output_type": "stream",
     "text": [
      "total:  9\n",
      "difference:  -1\n",
      "product:  20\n",
      "division:  1.25\n",
      "reminder:  4\n",
      "exponentiation:  625\n",
      "foor_division:  1\n"
     ]
    }
   ],
   "source": [
    "num_one = 5\n",
    "num_two = 4\n",
    "\n",
    "total = num_one + num_two \n",
    "diff = num_two - num_one\n",
    "product = num_two * num_one\n",
    "division = num_one / num_two\n",
    "remainder = num_two % num_one\n",
    "exp = num_one ** num_two\n",
    "floor_division = num_one // num_two\n",
    "\n",
    "\n",
    "\n",
    "print(\"total: \", total)\n",
    "print(\"difference: \", diff)\n",
    "print(\"product: \", product)\n",
    "print(\"division: \", division)\n",
    "print(\"reminder: \", remainder)\n",
    "print(\"exponentiation: \", exp )\n",
    "print(\"foor_division: \", floor_division)\n"
   ]
  },
  {
   "cell_type": "markdown",
   "metadata": {},
   "source": [
    "#### 5. The radius of a circle is 30 meters\n",
    "#### Calculate the area of a circle and assign the value to a variable name of area_of_circle\n",
    "#### Calculate the circumference of a circle and assign the value to a variable name of circum_of_circle\n",
    "#### Take radius as user input and calculate the area"
   ]
  },
  {
   "cell_type": "markdown",
   "metadata": {},
   "source": [
    "#### Use the built-in input function to get first name, last name, country and age from a user and store the value to their corresponding variable names"
   ]
  },
  {
   "cell_type": "code",
   "execution_count": 16,
   "metadata": {},
   "outputs": [
    {
     "name": "stdout",
     "output_type": "stream",
     "text": [
      "Area of the circle: 2827.4333882308138\n",
      "Circumference of the circle: 188.49555921538757\n"
     ]
    }
   ],
   "source": [
    "import math\n",
    "radius = float(input(\"Enter the radius of the circle: \"))\n",
    "area_of_circle = math.pi * radius * radius\n",
    "circum_of_circle = 2 * math.pi * radius\n",
    "\n",
    "print(\"Area of the circle:\", area_of_circle)\n",
    "print(\"Circumference of the circle:\", circum_of_circle)"
   ]
  },
  {
   "cell_type": "markdown",
   "metadata": {},
   "source": [
    "#### 6. Use the built-in input function to get first name, last name, country and age from a user and store the value to their corresponding variable names"
   ]
  },
  {
   "cell_type": "code",
   "execution_count": 14,
   "metadata": {},
   "outputs": [
    {
     "name": "stdout",
     "output_type": "stream",
     "text": [
      "First Name: Zaharaddeen\n",
      "Last Name: Nura Ibrahim\n",
      "Country: Nigeria\n",
      "Age: 30\n"
     ]
    }
   ],
   "source": [
    "first_name = input(\"Enter your first name: \")\n",
    "last_name = input(\"Enter your last name: \")\n",
    "country = input(\"Enter your country: \")\n",
    "age = int(input(\"Enter your age: \"))\n",
    "\n",
    "print(\"First Name:\", first_name)\n",
    "print(\"Last Name:\", last_name)\n",
    "print(\"Country:\", country)\n",
    "print(\"Age:\", age)"
   ]
  },
  {
   "cell_type": "markdown",
   "metadata": {},
   "source": [
    "#### 7. Run help('keywords') in Python shell or in your file to check for the Python reserved words or keywords"
   ]
  },
  {
   "cell_type": "code",
   "execution_count": 15,
   "metadata": {},
   "outputs": [
    {
     "name": "stdout",
     "output_type": "stream",
     "text": [
      "['False', 'None', 'True', 'and', 'as', 'assert', 'async', 'await', 'break', 'class', 'continue', 'def', 'del', 'elif', 'else', 'except', 'finally', 'for', 'from', 'global', 'if', 'import', 'in', 'is', 'lambda', 'nonlocal', 'not', 'or', 'pass', 'raise', 'return', 'try', 'while', 'with', 'yield']\n"
     ]
    }
   ],
   "source": [
    "import keyword\n",
    "print(keyword.kwlist)"
   ]
  }
 ],
 "metadata": {
  "kernelspec": {
   "display_name": "Python 3",
   "language": "python",
   "name": "python3"
  },
  "language_info": {
   "codemirror_mode": {
    "name": "ipython",
    "version": 3
   },
   "file_extension": ".py",
   "mimetype": "text/x-python",
   "name": "python",
   "nbconvert_exporter": "python",
   "pygments_lexer": "ipython3",
   "version": "3.10.11"
  }
 },
 "nbformat": 4,
 "nbformat_minor": 2
}
