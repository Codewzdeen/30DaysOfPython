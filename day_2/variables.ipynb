{
 "cells": [
  {
   "cell_type": "markdown",
   "metadata": {},
   "source": []
  },
  {
   "cell_type": "markdown",
   "metadata": {},
   "source": [
    "# Exercises - Day 2"
   ]
  },
  {
   "cell_type": "markdown",
   "metadata": {},
   "source": [
    "#### Exercises: Level 1"
   ]
  },
  {
   "cell_type": "markdown",
   "metadata": {},
   "source": [
    "#### Exercises 1"
   ]
  },
  {
   "cell_type": "markdown",
   "metadata": {},
   "source": [
    "#### Day 2: 30 Days of python programming"
   ]
  },
  {
   "cell_type": "code",
   "execution_count": 24,
   "metadata": {},
   "outputs": [],
   "source": [
    "\n",
    "first_name = \"Zaharaddeen\"\n",
    "last_name = \"Nura Ibrahim\"\n",
    "country = \"Nigeria\"\n",
    "city = \"Kano\"\n",
    "age = 30\n",
    "year = 2023\n",
    "is_married = False\n",
    "is_true = True\n",
    "is_light_on = True\n",
    "first_name, last_name, country, city, age, is_married, is_true, is_light_on = \"Zaharaddeen\", \"Nura Ibrahim\", \"Nigeria\", \"Kano\", 30, False, True, True\n"
   ]
  },
  {
   "cell_type": "code",
   "execution_count": 13,
   "metadata": {},
   "outputs": [
    {
     "name": "stdout",
     "output_type": "stream",
     "text": [
      "Zaharaddeen\n",
      "Nura Ibrahim\n",
      "Nigeria\n",
      "Kano\n",
      "30\n",
      "2023\n",
      "False\n",
      "True\n",
      "True\n",
      "Zaharaddeen Nura Ibrahim Nigeria Kano 30 False True True\n"
     ]
    }
   ],
   "source": [
    "print(first_name)\n",
    "print(last_name)\n",
    "print(country)\n",
    "print(city)\n",
    "print(age)\n",
    "print(year)\n",
    "print(is_married)\n",
    "print(is_true)\n",
    "print(is_light_on)\n",
    "print(first_name,last_name,country,city,age,is_married, is_true,is_light_on)\n"
   ]
  },
  {
   "cell_type": "markdown",
   "metadata": {},
   "source": [
    "#### Exercises 2"
   ]
  },
  {
   "cell_type": "markdown",
   "metadata": {},
   "source": [
    "#### Check the data type of all your variables using type() built-in function"
   ]
  },
  {
   "cell_type": "code",
   "execution_count": 22,
   "metadata": {},
   "outputs": [
    {
     "name": "stdout",
     "output_type": "stream",
     "text": [
      "<class 'str'>\n",
      "<class 'str'>\n",
      "<class 'str'>\n",
      "<class 'str'>\n",
      "<class 'int'>\n",
      "<class 'int'>\n",
      "<class 'bool'>\n",
      "<class 'bool'>\n",
      "<class 'bool'>\n"
     ]
    }
   ],
   "source": [
    "print(type(first_name))\n",
    "print(type(last_name))\n",
    "print(type(country))\n",
    "print(type(city))\n",
    "print(type(age))\n",
    "print(type(year))\n",
    "print(type(is_married))\n",
    "print(type(is_true))\n",
    "print(type(is_light_on))"
   ]
  },
  {
   "cell_type": "markdown",
   "metadata": {},
   "source": [
    "#### Using the len() built-in function, find the length of your first name"
   ]
  },
  {
   "cell_type": "code",
   "execution_count": 25,
   "metadata": {},
   "outputs": [
    {
     "name": "stdout",
     "output_type": "stream",
     "text": [
      "11\n"
     ]
    }
   ],
   "source": [
    "print(len(\"Zaharaddeen\"))"
   ]
  },
  {
   "cell_type": "markdown",
   "metadata": {},
   "source": [
    "#### Compare the length of your first name and your last name"
   ]
  },
  {
   "cell_type": "code",
   "execution_count": 27,
   "metadata": {},
   "outputs": [
    {
     "name": "stdout",
     "output_type": "stream",
     "text": [
      "10\n",
      "12\n"
     ]
    }
   ],
   "source": [
    "print(len(\"zaharadden\"))\n",
    "print(len(\"Nura Ibrahim\"))"
   ]
  },
  {
   "cell_type": "markdown",
   "metadata": {},
   "source": [
    "#### Declare 5 as num_one and 4 as num_two"
   ]
  },
  {
   "cell_type": "code",
   "execution_count": 31,
   "metadata": {},
   "outputs": [
    {
     "name": "stdout",
     "output_type": "stream",
     "text": [
      "9\n",
      "-1\n",
      "20\n",
      "1.25\n",
      "4\n",
      "625\n",
      "1\n"
     ]
    }
   ],
   "source": [
    "num_one = 5\n",
    "num_two = 4\n",
    "\n",
    "total = num_one + num_two \n",
    "print(total)\n",
    "\n",
    "diff = num_two - num_one\n",
    "print(diff)\n",
    "\n",
    "product = num_two * num_one\n",
    "print(product)\n",
    "\n",
    "division = num_one / num_two\n",
    "print(division)\n",
    "\n",
    "remainder = num_two % num_one\n",
    "print(remainder)\n",
    "\n",
    "exp = num_one ** num_two\n",
    "print(exp)\n",
    "\n",
    "floor_division = num_one // num_two\n",
    "print(floor_division)"
   ]
  },
  {
   "cell_type": "markdown",
   "metadata": {},
   "source": [
    "#### The radius of a circle is 30 meters\n",
    "#### Calculate the area of a circle and assign the value to a variable name of area_of_circle\n",
    "#### Calculate the circumference of a circle and assign the value to a variable name of circum_of_circle\n",
    "#### Take radius as user input and calculate the area"
   ]
  }
 ],
 "metadata": {
  "kernelspec": {
   "display_name": "Python 3",
   "language": "python",
   "name": "python3"
  },
  "language_info": {
   "codemirror_mode": {
    "name": "ipython",
    "version": 3
   },
   "file_extension": ".py",
   "mimetype": "text/x-python",
   "name": "python",
   "nbconvert_exporter": "python",
   "pygments_lexer": "ipython3",
   "version": "3.10.11"
  }
 },
 "nbformat": 4,
 "nbformat_minor": 2
}
